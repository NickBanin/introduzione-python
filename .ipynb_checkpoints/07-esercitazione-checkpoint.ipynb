{
 "cells": [
  {
   "cell_type": "markdown",
   "id": "804f3462",
   "metadata": {},
   "source": [
    "# Le funzioni ricorsive"
   ]
  },
  {
   "cell_type": "markdown",
   "id": "60c06040",
   "metadata": {},
   "source": [
    "La ricorsione è una tecnica che prevede che una funzione chiami sè stessa"
   ]
  },
  {
   "cell_type": "code",
   "execution_count": 1,
   "id": "0bc20598",
   "metadata": {},
   "outputs": [],
   "source": [
    "def fattoriale(n):\n",
    "    if n < 2:\n",
    "        return 1\n",
    "    return n * fattoriale(n-1)"
   ]
  },
  {
   "cell_type": "markdown",
   "id": "05fcfd0e",
   "metadata": {},
   "source": [
    "Python riesce a notare un caso di ricorsione per ottimizzarlo. Se però se ne abusa, si potrebbe generare un errore. Bisogna quindi decidere se sia più conveniente usare una funzione ricorsiva per leggibilità oppure se usare dei cicli per evitare di occupare troppa memoria. Questo è possibile perché ogni funzione ricorsiva può essere sempre riscritta tramite cicli per renderla non ricorsiva."
   ]
  },
  {
   "cell_type": "code",
   "execution_count": 2,
   "id": "5d04fa67",
   "metadata": {},
   "outputs": [
    {
     "data": {
      "text/plain": [
       "3628800"
      ]
     },
     "execution_count": 2,
     "metadata": {},
     "output_type": "execute_result"
    }
   ],
   "source": [
    "fattoriale(10)"
   ]
  },
  {
   "cell_type": "markdown",
   "id": "f3baf67e",
   "metadata": {},
   "source": [
    "## Cicli VS Ricorsione"
   ]
  },
  {
   "cell_type": "markdown",
   "id": "fe87259d",
   "metadata": {},
   "source": [
    "Una funzione può essere \"a foglia\": questo vuol dire che essa non chiama alcuna altra funzione"
   ]
  },
  {
   "cell_type": "code",
   "execution_count": 3,
   "id": "af863a62",
   "metadata": {},
   "outputs": [
    {
     "name": "stdout",
     "output_type": "stream",
     "text": [
      "4\n",
      "3\n",
      "2\n",
      "1\n"
     ]
    }
   ],
   "source": [
    "def conta_c(n):\n",
    "    while n > 0:\n",
    "        print(n)\n",
    "        n -= 1\n",
    "\n",
    "conta_c(4)    "
   ]
  },
  {
   "cell_type": "code",
   "execution_count": 4,
   "id": "7095d34e",
   "metadata": {},
   "outputs": [
    {
     "name": "stdout",
     "output_type": "stream",
     "text": [
      "4\n",
      "3\n",
      "2\n",
      "1\n"
     ]
    }
   ],
   "source": [
    "def conta_r(n):\n",
    "    if n > 0:\n",
    "        print(n)\n",
    "        conta_r(n-1)\n",
    "        \n",
    "conta_r(4)        "
   ]
  },
  {
   "cell_type": "markdown",
   "id": "0949b0f4",
   "metadata": {},
   "source": [
    "### Parametri di input\n",
    "\n",
    "Una funzione può avere più parametri, ai quali si può dare un valore di default. Nella definizione dei parametri, prima si mettono quelli senza valore di default, poi quelli che valore di default e infine abbiamo i parameri di numero variabile *args* e *kwargs*.\n",
    "\n",
    "*def func(p1, p2, p3=default_value3, p4=default_value4, * args , ** kwargs)*\n",
    "\n",
    "dove:\n",
    "- ***args***: sono parametri senza nome divisi da virgola che vengono trattati come una lista;\n",
    "- ***kwargs***: sono parametri con una chiave, cioè passati con la forma *key=value*, e divisi dalla virgola che vengono trattati come un dizionario in cui *key* è la chiave e *value* sarà il suo valore associato.\n",
    "\n",
    "Quando vado però a passarne i valori durante la chiamata, posso esplicitare il nome del parametro e invertire la posizione dei parametri con e senza valori di default."
   ]
  },
  {
   "cell_type": "code",
   "execution_count": 5,
   "id": "6d039355",
   "metadata": {},
   "outputs": [],
   "source": [
    "# A) Uso di *args\n",
    "\n",
    "def somma(*interi):\n",
    "    res = 0\n",
    "    for num in interi:\n",
    "        res+=num\n",
    "    return res"
   ]
  },
  {
   "cell_type": "code",
   "execution_count": 6,
   "id": "e9b1faab",
   "metadata": {},
   "outputs": [
    {
     "data": {
      "text/plain": [
       "9"
      ]
     },
     "execution_count": 6,
     "metadata": {},
     "output_type": "execute_result"
    }
   ],
   "source": [
    "# Come se passassi:\n",
    "# interi = [1, 2, 6]\n",
    "\n",
    "somma(1, 2, 6)"
   ]
  },
  {
   "cell_type": "code",
   "execution_count": 7,
   "id": "4c3a1efa",
   "metadata": {},
   "outputs": [],
   "source": [
    "# B) Uso di **kwargs\n",
    "\n",
    "def citta_capitali(**capitali):\n",
    "    for s, c in capitali.items():\n",
    "        print(c, 'è capitale di', s)"
   ]
  },
  {
   "cell_type": "code",
   "execution_count": 8,
   "id": "fdf2d5f3",
   "metadata": {},
   "outputs": [
    {
     "name": "stdout",
     "output_type": "stream",
     "text": [
      "Roma è capitale di Italia\n",
      "Madrid è capitale di Spagna\n",
      "Parigi è capitale di Francia\n"
     ]
    }
   ],
   "source": [
    "# Come se passassi:\n",
    "# capitali = {'Italia': Roma', 'Spagna': 'Madrid', 'Francia': 'Parigi'}\n",
    "\n",
    "citta_capitali(Italia='Roma', Spagna='Madrid', Francia='Parigi')"
   ]
  },
  {
   "cell_type": "markdown",
   "id": "2d7e244b",
   "metadata": {},
   "source": [
    "### Trattamento delle funzioni in Python\n",
    "\n",
    "In Python, le funzioni possono essere trattate come oggetto. Infatti, possono essere passate come argomento ad altre funzioni o persino salvate in variabili per dare loro un nuovo nome o per maneggiarle meglio."
   ]
  },
  {
   "cell_type": "code",
   "execution_count": 9,
   "id": "33f9f73c",
   "metadata": {},
   "outputs": [
    {
     "data": {
      "text/plain": [
       "4"
      ]
     },
     "execution_count": 9,
     "metadata": {},
     "output_type": "execute_result"
    }
   ],
   "source": [
    "# Assegnazione a variabile\n",
    "\n",
    "somma_interi = somma\n",
    "somma_interi(1, 3)"
   ]
  },
  {
   "cell_type": "code",
   "execution_count": 10,
   "id": "71d7baf6",
   "metadata": {},
   "outputs": [
    {
     "data": {
      "text/plain": [
       "(36, 1)"
      ]
     },
     "execution_count": 10,
     "metadata": {},
     "output_type": "execute_result"
    }
   ],
   "source": [
    "# Passaggio ad un'altra funzione\n",
    "\n",
    "def diff(num1, num2):\n",
    "        return num1-num2\n",
    "    \n",
    "def quad_operazione(op_f, n1, n2):\n",
    "    op_res = op_f(n1, n2)\n",
    "    return op_res**2\n",
    "\n",
    "quad_operazione(somma, 1, 5), quad_operazione(diff, 4, 3)"
   ]
  },
  {
   "cell_type": "markdown",
   "id": "2cf391d0",
   "metadata": {},
   "source": [
    "#### Mapping\n",
    "\n",
    "Quando si vuole usare una funzione su ogni singolo elemento di una collezione, posso usare la funzione built-in *map()*. Questa funzione ritorna un oggetto di tipo \"map\". Se per un elemento della collezione, la funzione da applicare restituisce errore, tutto il mapping fallirà.\n",
    "\n",
    "***map***(*funzione_da_applicare, collezione*)"
   ]
  },
  {
   "cell_type": "code",
   "execution_count": 11,
   "id": "05af10fc",
   "metadata": {},
   "outputs": [
    {
     "data": {
      "text/plain": [
       "[1, 4, 25]"
      ]
     },
     "execution_count": 11,
     "metadata": {},
     "output_type": "execute_result"
    }
   ],
   "source": [
    "# Applica la funzione di quadrato a ogni elemento in una lista\n",
    "\n",
    "def quad(n):\n",
    "    return n**2\n",
    "\n",
    "list(map(quad, [1, 2, 5]))"
   ]
  },
  {
   "cell_type": "markdown",
   "id": "a811c976",
   "metadata": {},
   "source": [
    "### Lambda functions $\\lambda$\n",
    "\n",
    "In alcuni casi potremmo necissatare di una funzione composta da una sola istruzione solamente una sola volta, quindi non avrebbe senso darle un nome e salvarla in memoria. Per queste situazioni, possiamo ricorrere alle **lambda** functions, cioè funzioni molto semplici, brevi e \"mono-uso\", in cui abbiamo solo:\n",
    "\n",
    "1. argomenti\n",
    "2. body  (eventuale)\n",
    "3. ritorno\n",
    "\n",
    "Generalmente, si ha un solo argomento, una sola istruzione (*one-line*) e un solo valore ritornato.\n",
    "Il loro nome deriva dalla keyword usata per definirle e vengono anche chiamate \"anonime\" proprio perchè non hanno alcun nome loro associato. Se si vuole associare un nome o riutilizzare ad una lambda function, allora si dovrà salavare in una variabile con il nome desiderato.\n",
    "\n",
    "**lambda** *argomenti **:** ritorno*"
   ]
  },
  {
   "cell_type": "code",
   "execution_count": 12,
   "id": "01e814b3",
   "metadata": {},
   "outputs": [
    {
     "data": {
      "text/plain": [
       "[0.1, 0.2, 0.3, 0.4]"
      ]
     },
     "execution_count": 12,
     "metadata": {},
     "output_type": "execute_result"
    }
   ],
   "source": [
    "# Le funzioni lambda sono utili come argomento di altri funzioni\n",
    "\n",
    "list(map(lambda x: x/10, [1,2,3,4]))"
   ]
  },
  {
   "cell_type": "code",
   "execution_count": 13,
   "id": "a7d83c65",
   "metadata": {},
   "outputs": [
    {
     "data": {
      "text/plain": [
       "function"
      ]
     },
     "execution_count": 13,
     "metadata": {},
     "output_type": "execute_result"
    }
   ],
   "source": [
    "# Le lambda functions sono vere e proprie funzioni\n",
    "\n",
    "type(lambda x: x/10)"
   ]
  },
  {
   "cell_type": "code",
   "execution_count": 14,
   "id": "5edc142c",
   "metadata": {},
   "outputs": [
    {
     "data": {
      "text/plain": [
       "9"
      ]
     },
     "execution_count": 14,
     "metadata": {},
     "output_type": "execute_result"
    }
   ],
   "source": [
    "# Le lambda functions possono essere salvate in variabili\n",
    "\n",
    "quad = lambda x: x**2\n",
    "quad(3)"
   ]
  },
  {
   "cell_type": "code",
   "execution_count": 15,
   "id": "c4799254",
   "metadata": {},
   "outputs": [
    {
     "data": {
      "text/plain": [
       "15"
      ]
     },
     "execution_count": 15,
     "metadata": {},
     "output_type": "execute_result"
    }
   ],
   "source": [
    "# Le lambda functions possono avere argomenti su cui fare unpacking\n",
    "\n",
    "somma = lambda *n: sum(n)\n",
    "somma(1,2,3,4,5)"
   ]
  },
  {
   "cell_type": "code",
   "execution_count": 16,
   "id": "961b8601",
   "metadata": {},
   "outputs": [
    {
     "data": {
      "text/plain": [
       "8"
      ]
     },
     "execution_count": 16,
     "metadata": {},
     "output_type": "execute_result"
    }
   ],
   "source": [
    "# Le lambda functions possono avere multipli argomenti\n",
    "\n",
    "eleva = lambda b, e: b**e\n",
    "eleva(2,3)"
   ]
  },
  {
   "cell_type": "markdown",
   "id": "ab755aa8",
   "metadata": {},
   "source": [
    "### Asserzione\n",
    "\n",
    "A volte si deve testare il comportamento di alcune routine e, nel caso in cui gli sviluppi siano inaspettati, si poterbbe voler interrompere il programma. In questi casi su usa la keyword **assert** che controlla se una condizione viene rispettata, altrimenti blocca il programma."
   ]
  },
  {
   "cell_type": "code",
   "execution_count": 17,
   "id": "381b3b44",
   "metadata": {},
   "outputs": [
    {
     "name": "stdout",
     "output_type": "stream",
     "text": [
      "<class 'AssertionError'>\n"
     ]
    }
   ],
   "source": [
    "try:\n",
    "    assert 2 in [3,4,5]\n",
    "except Exception as e:\n",
    "    print(e.__class__)"
   ]
  },
  {
   "cell_type": "markdown",
   "id": "4c2fdc33",
   "metadata": {},
   "source": [
    "### Built-ins\n",
    "\n",
    "Il modulo $__builtins__$ contiene tutte le funzioni che di \"default\" sono usabili in Python."
   ]
  },
  {
   "cell_type": "code",
   "execution_count": 18,
   "id": "1776ef74",
   "metadata": {},
   "outputs": [
    {
     "data": {
      "text/plain": [
       "['ArithmeticError',\n",
       " 'AssertionError',\n",
       " 'AttributeError',\n",
       " 'BaseException',\n",
       " 'BlockingIOError',\n",
       " 'BrokenPipeError',\n",
       " 'BufferError',\n",
       " 'BytesWarning',\n",
       " 'ChildProcessError',\n",
       " 'ConnectionAbortedError',\n",
       " 'ConnectionError',\n",
       " 'ConnectionRefusedError',\n",
       " 'ConnectionResetError',\n",
       " 'DeprecationWarning',\n",
       " 'EOFError',\n",
       " 'Ellipsis',\n",
       " 'EncodingWarning',\n",
       " 'EnvironmentError',\n",
       " 'Exception',\n",
       " 'False',\n",
       " 'FileExistsError',\n",
       " 'FileNotFoundError',\n",
       " 'FloatingPointError',\n",
       " 'FutureWarning',\n",
       " 'GeneratorExit',\n",
       " 'IOError',\n",
       " 'ImportError',\n",
       " 'ImportWarning',\n",
       " 'IndentationError',\n",
       " 'IndexError',\n",
       " 'InterruptedError',\n",
       " 'IsADirectoryError',\n",
       " 'KeyError',\n",
       " 'KeyboardInterrupt',\n",
       " 'LookupError',\n",
       " 'MemoryError',\n",
       " 'ModuleNotFoundError',\n",
       " 'NameError',\n",
       " 'None',\n",
       " 'NotADirectoryError',\n",
       " 'NotImplemented',\n",
       " 'NotImplementedError',\n",
       " 'OSError',\n",
       " 'OverflowError',\n",
       " 'PendingDeprecationWarning',\n",
       " 'PermissionError',\n",
       " 'ProcessLookupError',\n",
       " 'RecursionError',\n",
       " 'ReferenceError',\n",
       " 'ResourceWarning',\n",
       " 'RuntimeError',\n",
       " 'RuntimeWarning',\n",
       " 'StopAsyncIteration',\n",
       " 'StopIteration',\n",
       " 'SyntaxError',\n",
       " 'SyntaxWarning',\n",
       " 'SystemError',\n",
       " 'SystemExit',\n",
       " 'TabError',\n",
       " 'TimeoutError',\n",
       " 'True',\n",
       " 'TypeError',\n",
       " 'UnboundLocalError',\n",
       " 'UnicodeDecodeError',\n",
       " 'UnicodeEncodeError',\n",
       " 'UnicodeError',\n",
       " 'UnicodeTranslateError',\n",
       " 'UnicodeWarning',\n",
       " 'UserWarning',\n",
       " 'ValueError',\n",
       " 'Warning',\n",
       " 'WindowsError',\n",
       " 'ZeroDivisionError',\n",
       " '__IPYTHON__',\n",
       " '__build_class__',\n",
       " '__debug__',\n",
       " '__doc__',\n",
       " '__import__',\n",
       " '__loader__',\n",
       " '__name__',\n",
       " '__package__',\n",
       " '__spec__',\n",
       " 'abs',\n",
       " 'aiter',\n",
       " 'all',\n",
       " 'anext',\n",
       " 'any',\n",
       " 'ascii',\n",
       " 'bin',\n",
       " 'bool',\n",
       " 'breakpoint',\n",
       " 'bytearray',\n",
       " 'bytes',\n",
       " 'callable',\n",
       " 'chr',\n",
       " 'classmethod',\n",
       " 'compile',\n",
       " 'complex',\n",
       " 'copyright',\n",
       " 'credits',\n",
       " 'delattr',\n",
       " 'dict',\n",
       " 'dir',\n",
       " 'display',\n",
       " 'divmod',\n",
       " 'enumerate',\n",
       " 'eval',\n",
       " 'exec',\n",
       " 'execfile',\n",
       " 'filter',\n",
       " 'float',\n",
       " 'format',\n",
       " 'frozenset',\n",
       " 'get_ipython',\n",
       " 'getattr',\n",
       " 'globals',\n",
       " 'hasattr',\n",
       " 'hash',\n",
       " 'help',\n",
       " 'hex',\n",
       " 'id',\n",
       " 'input',\n",
       " 'int',\n",
       " 'isinstance',\n",
       " 'issubclass',\n",
       " 'iter',\n",
       " 'len',\n",
       " 'license',\n",
       " 'list',\n",
       " 'locals',\n",
       " 'map',\n",
       " 'max',\n",
       " 'memoryview',\n",
       " 'min',\n",
       " 'next',\n",
       " 'object',\n",
       " 'oct',\n",
       " 'open',\n",
       " 'ord',\n",
       " 'pow',\n",
       " 'print',\n",
       " 'property',\n",
       " 'range',\n",
       " 'repr',\n",
       " 'reversed',\n",
       " 'round',\n",
       " 'runfile',\n",
       " 'set',\n",
       " 'setattr',\n",
       " 'slice',\n",
       " 'sorted',\n",
       " 'staticmethod',\n",
       " 'str',\n",
       " 'sum',\n",
       " 'super',\n",
       " 'tuple',\n",
       " 'type',\n",
       " 'vars',\n",
       " 'zip']"
      ]
     },
     "execution_count": 18,
     "metadata": {},
     "output_type": "execute_result"
    }
   ],
   "source": [
    "dir(__builtins__)"
   ]
  },
  {
   "cell_type": "code",
   "execution_count": 19,
   "id": "6f45d2d7",
   "metadata": {},
   "outputs": [
    {
     "name": "stdout",
     "output_type": "stream",
     "text": [
      "Help on built-in function eval in module builtins:\n",
      "\n",
      "eval(source, globals=None, locals=None, /)\n",
      "    Evaluate the given source in the context of globals and locals.\n",
      "    \n",
      "    The source may be a string representing a Python expression\n",
      "    or a code object as returned by compile().\n",
      "    The globals must be a dictionary and locals can be any mapping,\n",
      "    defaulting to the current globals and locals.\n",
      "    If only globals is given, locals defaults to it.\n",
      "\n"
     ]
    }
   ],
   "source": [
    "# help(oggetto) ci mostra info su un oggetto\n",
    "help(eval)"
   ]
  },
  {
   "cell_type": "code",
   "execution_count": 20,
   "id": "4b75a194",
   "metadata": {},
   "outputs": [],
   "source": [
    "prog = '2+7+5'"
   ]
  },
  {
   "cell_type": "code",
   "execution_count": 21,
   "id": "a4e3444c",
   "metadata": {},
   "outputs": [
    {
     "data": {
      "text/plain": [
       "('2+7+5', 14)"
      ]
     },
     "execution_count": 21,
     "metadata": {},
     "output_type": "execute_result"
    }
   ],
   "source": [
    "# La funzione eval() interpreta una stringa come codice\n",
    "\n",
    "prog, eval(prog)"
   ]
  },
  {
   "cell_type": "code",
   "execution_count": 22,
   "id": "da889dc7",
   "metadata": {},
   "outputs": [
    {
     "data": {
      "text/plain": [
       "5"
      ]
     },
     "execution_count": 22,
     "metadata": {},
     "output_type": "execute_result"
    }
   ],
   "source": [
    "# La funzione eval() accetta anche variabili\n",
    "prog2 = 'a + b'\n",
    "eval(prog2, {'a': 2, 'b': 3})"
   ]
  },
  {
   "cell_type": "code",
   "execution_count": 23,
   "id": "0d70a3b1",
   "metadata": {},
   "outputs": [
    {
     "data": {
      "text/plain": [
       "({'a': 1, 'b': 2}, dict)"
      ]
     },
     "execution_count": 23,
     "metadata": {},
     "output_type": "execute_result"
    }
   ],
   "source": [
    "d = eval(\"{'a':1, 'b':2}\")\n",
    "d, type(d)"
   ]
  },
  {
   "cell_type": "code",
   "execution_count": 24,
   "id": "ea66ae1f",
   "metadata": {},
   "outputs": [
    {
     "data": {
      "text/plain": [
       "'-0x6f18b0bf25df49ee'"
      ]
     },
     "execution_count": 24,
     "metadata": {},
     "output_type": "execute_result"
    }
   ],
   "source": [
    "#La funzione hash\n",
    "hex(hash('ciao'))"
   ]
  },
  {
   "cell_type": "markdown",
   "id": "e9272d38",
   "metadata": {},
   "source": [
    "# Le eccezioni"
   ]
  },
  {
   "cell_type": "markdown",
   "id": "de52a83e",
   "metadata": {},
   "source": [
    "Quelli che noi chiamiamo comunemente 'errori', sono in realtà dette 'eccezioni' poiché sono eventi che causano una mancata esecuzione corretta di un programma.\n",
    "\n",
    "Python classifica le eccezioni in tre macro-categorie:\n",
    "1. eccezioni durante il Runtime\n",
    "2. eccezioni programmatiche\n",
    "3. eccezioni sistemiche"
   ]
  },
  {
   "cell_type": "markdown",
   "id": "1a968cbe",
   "metadata": {},
   "source": [
    "#### 1.  Eccezioni a Runtime\n",
    "\n",
    "Queste non possono essere previste perché dipendono dallo stato raggiunto dalla macchina nel momento di esecuzione.\n",
    "\n",
    "*Es. divisione per zero.*"
   ]
  },
  {
   "cell_type": "markdown",
   "id": "03525174",
   "metadata": {},
   "source": [
    "#### 2. Eccezioni programmatiche\n",
    "\n",
    "Sono eccezioni che possono essere previste, dovute a degli errori di programmazione.\n",
    "\n",
    "*Es. Provare ad accedere a un file inesistente.*"
   ]
  },
  {
   "cell_type": "markdown",
   "id": "ce3ccdaf",
   "metadata": {},
   "source": [
    "#### 3. Eccezioni sistematiche\n",
    "\n",
    "Nonostante il codice sia corretto, potrebbe capitare che non sia compatibile con il sistema. Ad esempio, la parte hardware della macchina. Questo tipo di eccezioni non può essere controllato.\n",
    "\n",
    "*Es. Spazio di memoria insufficiente.*"
   ]
  },
  {
   "cell_type": "markdown",
   "id": "e7b32952",
   "metadata": {},
   "source": [
    "# Esercizi"
   ]
  },
  {
   "cell_type": "markdown",
   "id": "c01a3d41",
   "metadata": {},
   "source": [
    "1. Data una stringa, ritornare una lista delle sole NON vocali (consonanti, simboli) più frequenti\n",
    "\n",
    "    Ad esempio: “aaabbbcccdd” $->$ [b, c]\n"
   ]
  },
  {
   "cell_type": "code",
   "execution_count": 25,
   "id": "697622cc",
   "metadata": {},
   "outputs": [],
   "source": [
    "def nonvocale(s):\n",
    "    vocali=('a','e','i','o','u')\n",
    "    nonvocali={lettera: s.count(lettera) for lettera in s if lettera not in vocali}  \n",
    "    massimo=max([valore for valore in nonvocali.values()])\n",
    "    return [chiave for chiave,valore in nonvocali.items() if valore==massimo]"
   ]
  },
  {
   "cell_type": "code",
   "execution_count": 26,
   "id": "ab2c44f5",
   "metadata": {},
   "outputs": [
    {
     "data": {
      "text/plain": [
       "['b', 'c']"
      ]
     },
     "execution_count": 26,
     "metadata": {},
     "output_type": "execute_result"
    }
   ],
   "source": [
    "nonvocale('aaabbbcccdd')"
   ]
  },
  {
   "cell_type": "markdown",
   "id": "8cd12231",
   "metadata": {},
   "source": [
    " 2. Data una lista di stringhe, creare (con dict comprehension) un dizionario che abbia come key la stringa e come value le vocali più frequenti nella stringa\n"
   ]
  },
  {
   "cell_type": "code",
   "execution_count": 27,
   "id": "93c2d732",
   "metadata": {},
   "outputs": [],
   "source": [
    "def vocale(s):\n",
    "    vocali=('a','e','i','o','u')\n",
    "    nonvocali={lettera: s.count(lettera) for lettera in s if lettera in vocali}  \n",
    "    massimo=max([valore for valore in nonvocali.values()])\n",
    "    return [chiave for chiave,valore in nonvocali.items() if valore==massimo]"
   ]
  },
  {
   "cell_type": "code",
   "execution_count": 28,
   "id": "3ae09b3d",
   "metadata": {},
   "outputs": [
    {
     "data": {
      "text/plain": [
       "['a']"
      ]
     },
     "execution_count": 28,
     "metadata": {},
     "output_type": "execute_result"
    }
   ],
   "source": [
    "vocale('ammainare')"
   ]
  },
  {
   "cell_type": "code",
   "execution_count": 29,
   "id": "e95974e6",
   "metadata": {},
   "outputs": [],
   "source": [
    "def dictvocali(l):\n",
    "    return {stringa: vocale(stringa) for stringa in l}        "
   ]
  },
  {
   "cell_type": "code",
   "execution_count": 30,
   "id": "8ee235f4",
   "metadata": {},
   "outputs": [],
   "source": [
    "l=['ammainare', 'istrice', 'aaeeooo']"
   ]
  },
  {
   "cell_type": "code",
   "execution_count": 31,
   "id": "2b16cc7a",
   "metadata": {},
   "outputs": [
    {
     "data": {
      "text/plain": [
       "{'ammainare': ['a'], 'istrice': ['i'], 'aaeeooo': ['o']}"
      ]
     },
     "execution_count": 31,
     "metadata": {},
     "output_type": "execute_result"
    }
   ],
   "source": [
    "dictvocali(l)"
   ]
  },
  {
   "cell_type": "markdown",
   "id": "4cd7dbdc",
   "metadata": {},
   "source": [
    "3. Dati due interi, trovare minimo comune multiplo e massimo comun divisore"
   ]
  },
  {
   "cell_type": "code",
   "execution_count": 32,
   "id": "3bea1612",
   "metadata": {},
   "outputs": [],
   "source": [
    "def mcd(a, b):\n",
    "    while(b != 0):\n",
    "        R=a%b\n",
    "        a=b\n",
    "        b=R\n",
    "    return a"
   ]
  },
  {
   "cell_type": "code",
   "execution_count": 33,
   "id": "0f8f4f38",
   "metadata": {},
   "outputs": [
    {
     "data": {
      "text/plain": [
       "5"
      ]
     },
     "execution_count": 33,
     "metadata": {},
     "output_type": "execute_result"
    }
   ],
   "source": [
    "mcd(55,10)"
   ]
  },
  {
   "cell_type": "code",
   "execution_count": 34,
   "id": "c7d34217",
   "metadata": {},
   "outputs": [],
   "source": [
    "def mcm(a,b):\n",
    "    return int((a*b)/mcd(a,b))"
   ]
  },
  {
   "cell_type": "code",
   "execution_count": 35,
   "id": "6ce3de29",
   "metadata": {},
   "outputs": [
    {
     "data": {
      "text/plain": [
       "6"
      ]
     },
     "execution_count": 35,
     "metadata": {},
     "output_type": "execute_result"
    }
   ],
   "source": [
    "mcm(2,6)"
   ]
  },
  {
   "cell_type": "markdown",
   "id": "85917a36",
   "metadata": {},
   "source": [
    "4. Creare una funzione che possa sillabare delle parole secondo le regole più semplici (doppie, dittonghi/trittonghi comuni). \n",
    "\n",
    "    Possibile esempio di output sono:\n",
    "    \n",
    "    sillaba(‘patata’) $->$ pa-ta-ta, \n",
    "    \n",
    "    sillaba(‘casa’) $->$ ca-sa, \n",
    "    \n",
    "    sillaba(‘castello’) $->$ cas-tel-lo"
   ]
  },
  {
   "cell_type": "code",
   "execution_count": 36,
   "id": "63c25530",
   "metadata": {},
   "outputs": [],
   "source": [
    "def sillaba(p):\n",
    "    #vocali=('a','e','i','o','u')\n",
    "    #consonanti=('q','r','t','p','l','g','f','d','s','z','c','v','b','n','m')\n",
    "    doppie=('qq', 'rr', 'tt', 'pp', 'ss', 'dd', 'ff', 'gg', 'll', 'zz', 'cc', 'vv', 'bb', 'nn', 'mm')\n",
    "    dittonghi=('ia', 'ie', 'io', 'iu', 'ua', 'ue', 'ui', 'uo', 'ai', 'ei', 'oi', 'ui', 'au', 'eu')\n",
    "    separare = doppie + dittonghi\n",
    "    for i in range(len(p)-1):\n",
    "        for sep in separare:       \n",
    "            if p[i]+p[i+1] == sep :\n",
    "                p=p[:i+1]+'-'+p[i+1:]\n",
    "    return p"
   ]
  },
  {
   "cell_type": "code",
   "execution_count": 39,
   "id": "fcbf18bc",
   "metadata": {},
   "outputs": [],
   "source": [
    "def sillaba2(p):\n",
    "    vocali=('a','e','i','o','u')\n",
    "    consonanti=('q','r','t','p','l','g','f','d','s','z','c','v','b','n','m')\n",
    "    for i in range(1,len(p)): \n",
    "        #if p[i]==p[i+1]:\n",
    "         #       p=p[:i+1]+'-'+p[i+1:]\n",
    "        if (p[i] in consonanti and p[i+1] in consonanti):  \n",
    "            p=p[:i+1]+'-'+p[i+1:]\n",
    "        if (p[i-1] in vocali and p[i] in consonanti and p[i+1] in vocali):\n",
    "            p=p[:i]+'-'+p[i:]\n",
    "       \n",
    "    return p"
   ]
  },
  {
   "cell_type": "code",
   "execution_count": 40,
   "id": "c007f2a9",
   "metadata": {},
   "outputs": [
    {
     "data": {
      "text/plain": [
       "'ba-rac-ca'"
      ]
     },
     "execution_count": 40,
     "metadata": {},
     "output_type": "execute_result"
    }
   ],
   "source": [
    "sillaba2('baracca')"
   ]
  },
  {
   "cell_type": "code",
   "execution_count": null,
   "id": "bfed0f3c",
   "metadata": {},
   "outputs": [],
   "source": []
  },
  {
   "cell_type": "code",
   "execution_count": null,
   "id": "8bf73ce3",
   "metadata": {},
   "outputs": [],
   "source": []
  },
  {
   "cell_type": "code",
   "execution_count": null,
   "id": "ee093eac",
   "metadata": {},
   "outputs": [],
   "source": []
  },
  {
   "cell_type": "code",
   "execution_count": null,
   "id": "6682bb74",
   "metadata": {},
   "outputs": [],
   "source": []
  },
  {
   "cell_type": "code",
   "execution_count": null,
   "id": "5ee5f36f",
   "metadata": {},
   "outputs": [],
   "source": []
  },
  {
   "cell_type": "code",
   "execution_count": null,
   "id": "52e890a6",
   "metadata": {},
   "outputs": [],
   "source": []
  }
 ],
 "metadata": {
  "kernelspec": {
   "display_name": "Python 3 (ipykernel)",
   "language": "python",
   "name": "python3"
  },
  "language_info": {
   "codemirror_mode": {
    "name": "ipython",
    "version": 3
   },
   "file_extension": ".py",
   "mimetype": "text/x-python",
   "name": "python",
   "nbconvert_exporter": "python",
   "pygments_lexer": "ipython3",
   "version": "3.10.7"
  }
 },
 "nbformat": 4,
 "nbformat_minor": 5
}
