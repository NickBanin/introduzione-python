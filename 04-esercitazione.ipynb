{
 "cells": [
  {
   "cell_type": "markdown",
   "id": "c5d97197",
   "metadata": {},
   "source": [
    "# Operazioni sugli insiemi\n"
   ]
  },
  {
   "cell_type": "code",
   "execution_count": 1,
   "id": "83f56b81",
   "metadata": {},
   "outputs": [
    {
     "name": "stdout",
     "output_type": "stream",
     "text": [
      "{'d', 'C', 'a', 'B', 'A', 'b', 'c', 'D'}\n",
      "{'c', 'd', 'b'}\n",
      "{'e', 'd', 'b', 'c', 'o', 'u', 'i'}\n"
     ]
    }
   ],
   "source": [
    "maiuscole={'A','B','C','D'}\n",
    "minuscole={'a','b','c','d'}\n",
    "vocali_minuscole={'a','e','i','o','u'}\n",
    "\n",
    "#intersezione\n",
    "print(minuscole | maiuscole)\n",
    "\n",
    "#differenza\n",
    "print(minuscole - vocali_minuscole)\n",
    "\n",
    "#xor\n",
    "print(minuscole ^ vocali_minuscole)"
   ]
  },
  {
   "cell_type": "markdown",
   "id": "f3382163",
   "metadata": {},
   "source": [
    "Set comprehension"
   ]
  },
  {
   "cell_type": "code",
   "execution_count": 2,
   "id": "0ca120d4",
   "metadata": {},
   "outputs": [
    {
     "name": "stdout",
     "output_type": "stream",
     "text": [
      "{0, 1, 4, 9, 16}\n"
     ]
    }
   ],
   "source": [
    "set_quad={n**2 for n in range(5)}\n",
    "print(set_quad)"
   ]
  },
  {
   "cell_type": "markdown",
   "id": "a4f3f196",
   "metadata": {},
   "source": [
    "# I dizionari\n"
   ]
  },
  {
   "cell_type": "markdown",
   "id": "367611d4",
   "metadata": {},
   "source": [
    "Sono strutture dati in grado di associare un valore a una chiave. Le chiavi appartengono ad un set (non possono essercene due uguali) mentre i valori appartengono ad una list\n",
    "\n",
    "Creiamo ora un modello in cui associamo ad ogni città il suo stato"
   ]
  },
  {
   "cell_type": "code",
   "execution_count": 3,
   "id": "c2130ce1",
   "metadata": {},
   "outputs": [
    {
     "name": "stdout",
     "output_type": "stream",
     "text": [
      "{'Roma': 'Italia', 'Napoli': 'Italia', 'Barcelona': 'Spagna'}\n"
     ]
    }
   ],
   "source": [
    "elenco_citta = dict()\n",
    "elenco_citta['Roma']='Italia'\n",
    "elenco_citta['Napoli']='Italia'\n",
    "elenco_citta['Barcelona']='Spagna'\n",
    "\n",
    "print(elenco_citta)"
   ]
  },
  {
   "cell_type": "markdown",
   "id": "440a05c1",
   "metadata": {},
   "source": [
    "Avendo una lista di città, è possibile risalire allo stato di appartenenza"
   ]
  },
  {
   "cell_type": "code",
   "execution_count": 4,
   "id": "fd0a6a6a",
   "metadata": {},
   "outputs": [],
   "source": [
    "lista_citta=['Roma', 'Napoli', 'Barcelona']"
   ]
  },
  {
   "cell_type": "code",
   "execution_count": 5,
   "id": "9b991da7",
   "metadata": {},
   "outputs": [
    {
     "name": "stdout",
     "output_type": "stream",
     "text": [
      "Italia\n"
     ]
    }
   ],
   "source": [
    "print(elenco_citta[lista_citta[0]])"
   ]
  },
  {
   "cell_type": "code",
   "execution_count": 6,
   "id": "e9ab923a",
   "metadata": {},
   "outputs": [
    {
     "name": "stdout",
     "output_type": "stream",
     "text": [
      "['Italia', 'Italia', 'Spagna']\n"
     ]
    }
   ],
   "source": [
    "l=[elenco_citta[value] for value in lista_citta]\n",
    "print(l)"
   ]
  },
  {
   "cell_type": "markdown",
   "id": "970dd85e",
   "metadata": {},
   "source": [
    "Vediamo ora come inizializzare un dizionario in maniera più compatta"
   ]
  },
  {
   "cell_type": "code",
   "execution_count": 7,
   "id": "ebb43bb2",
   "metadata": {},
   "outputs": [
    {
     "name": "stdout",
     "output_type": "stream",
     "text": [
      "{'key1': 'value1', 'key2': 'value2'}\n"
     ]
    }
   ],
   "source": [
    "d = {\n",
    "    'key1' : 'value1',\n",
    "    'key2' : 'value2'\n",
    "}\n",
    "print(d)"
   ]
  },
  {
   "cell_type": "markdown",
   "id": "f7df10fa",
   "metadata": {},
   "source": [
    "Ed eliminare un valore da esso"
   ]
  },
  {
   "cell_type": "code",
   "execution_count": 8,
   "id": "e633dca3",
   "metadata": {},
   "outputs": [
    {
     "name": "stdout",
     "output_type": "stream",
     "text": [
      "{'key2': 'value2'}\n"
     ]
    }
   ],
   "source": [
    "del d['key1']\n",
    "print(d)"
   ]
  },
  {
   "cell_type": "markdown",
   "id": "b4346287",
   "metadata": {},
   "source": [
    "Esiste anche in questo caso la dictionary comprehension"
   ]
  },
  {
   "cell_type": "code",
   "execution_count": 9,
   "id": "e7ce24da",
   "metadata": {},
   "outputs": [],
   "source": [
    "#Invertiamo ora il dizionario scambiando chiavi e valori"
   ]
  },
  {
   "cell_type": "code",
   "execution_count": 10,
   "id": "d95ae0cb",
   "metadata": {},
   "outputs": [
    {
     "name": "stdout",
     "output_type": "stream",
     "text": [
      "{'key1': 'value1', 'key2': 'value2'}\n"
     ]
    }
   ],
   "source": [
    "d = {\n",
    "    'key1' : 'value1',\n",
    "    'key2' : 'value2'\n",
    "}\n",
    "print(d)"
   ]
  },
  {
   "cell_type": "code",
   "execution_count": 11,
   "id": "6945b7db",
   "metadata": {},
   "outputs": [
    {
     "name": "stdout",
     "output_type": "stream",
     "text": [
      "{'value1': 'key1', 'value2': 'key2'}\n"
     ]
    }
   ],
   "source": [
    "d_inv = { value:key for key,value in d.items()}\n",
    "print(d_inv)"
   ]
  },
  {
   "cell_type": "markdown",
   "id": "2af8395c",
   "metadata": {},
   "source": [
    "#### 1. Accoppiando chiavi e valori salvati in liste separate\n",
    "Se le keys e i values sono in due liste separate, posso farlo purché le chiavi e i rispettivi valori abbiano lo stesso indice nelle liste in cui si trovano. Infatti, con ***zip(lista_chiavi, lista_valori)*** creiamo tuple formate dagli elementi nelle due liste originali con lo stesso indice e la usiamo nella comprehension."
   ]
  },
  {
   "cell_type": "markdown",
   "id": "b93b6b7e",
   "metadata": {},
   "source": [
    "###### Come funziona zip?\n",
    "\"Accoppiando\" gli elementi che nelle due liste originali hanno stesso indice!"
   ]
  },
  {
   "cell_type": "code",
   "execution_count": 12,
   "id": "d5e27fe6",
   "metadata": {},
   "outputs": [
    {
     "name": "stdout",
     "output_type": "stream",
     "text": [
      "[('a0', 'b0'), ('a1', 'b1'), ('a2', 'b2'), ('a3', 'b3')]\n"
     ]
    }
   ],
   "source": [
    "# liste originali\n",
    "lista_a = ['a0', 'a1', 'a2', 'a3']\n",
    "lista_b = ['b0', 'b1', 'b2', 'b3']\n",
    "\n",
    "# lista di valori \"accoppiati\"\n",
    "lista_zip_ab = list(zip(lista_a, lista_b))\n",
    "print(lista_zip_ab)"
   ]
  },
  {
   "cell_type": "markdown",
   "id": "9a96f41c",
   "metadata": {},
   "source": [
    "###### Come utilizzare zip in una dict comprehension"
   ]
  },
  {
   "cell_type": "code",
   "execution_count": 13,
   "id": "46fcc05e",
   "metadata": {},
   "outputs": [],
   "source": [
    "# Liste di partenza\n",
    "citta = ['Roma', 'Torino', 'Barcellona'] # keys\n",
    "stati = ['Italia', 'Italia', 'Spagna'] # values"
   ]
  },
  {
   "cell_type": "code",
   "execution_count": 14,
   "id": "28fe6bdd",
   "metadata": {},
   "outputs": [
    {
     "name": "stdout",
     "output_type": "stream",
     "text": [
      "{'Roma': 'Italia', 'Torino': 'Italia', 'Barcellona': 'Spagna'}\n"
     ]
    }
   ],
   "source": [
    "elenco_citta = {k:v for k,v in zip(citta, stati)}\n",
    "print(elenco_citta)"
   ]
  },
  {
   "cell_type": "markdown",
   "id": "91543506",
   "metadata": {},
   "source": [
    "#### 2. Usando coppie chiave-valore salvate su un'unica lista\n",
    "Se le keys e i values sono accoppiati in tuple salvate sulla stessa lista, basterà usare il loro indice nella tupla che li contiene."
   ]
  },
  {
   "cell_type": "code",
   "execution_count": 15,
   "id": "10cffc2d",
   "metadata": {},
   "outputs": [],
   "source": [
    "# lista di tuple (key, value) => tupla[0] = key, tupla[1] = value\n",
    "lista_tuple = [('Roma', 'Italia'), ('Torino', 'Italia'), ('Barcellona', 'Spagna')]"
   ]
  },
  {
   "cell_type": "code",
   "execution_count": 16,
   "id": "6ba958d4",
   "metadata": {},
   "outputs": [
    {
     "name": "stdout",
     "output_type": "stream",
     "text": [
      "{'Roma': 'Italia', 'Torino': 'Italia', 'Barcellona': 'Spagna'}\n"
     ]
    }
   ],
   "source": [
    "elenco_citta = {t[0]:t[1] for t in lista_tuple}\n",
    "print(elenco_citta)"
   ]
  },
  {
   "cell_type": "markdown",
   "id": "20e693b0",
   "metadata": {},
   "source": [
    "## Esercizio\n",
    "Ottenere una lista di stati (contenuti in elenco città) corrispondenti solo a città che hanno all'interno del nome la lettera r\n"
   ]
  },
  {
   "cell_type": "code",
   "execution_count": 17,
   "id": "48cb7071",
   "metadata": {
    "scrolled": true
   },
   "outputs": [
    {
     "name": "stdout",
     "output_type": "stream",
     "text": [
      "['Italia', 'Spagna']\n"
     ]
    }
   ],
   "source": [
    "e=[value for key, value in elenco_citta.items() if 'r' in key ]\n",
    "print(e)"
   ]
  },
  {
   "cell_type": "code",
   "execution_count": null,
   "id": "ebc6f322",
   "metadata": {},
   "outputs": [],
   "source": []
  }
 ],
 "metadata": {
  "kernelspec": {
   "display_name": "Python 3 (ipykernel)",
   "language": "python",
   "name": "python3"
  },
  "language_info": {
   "codemirror_mode": {
    "name": "ipython",
    "version": 3
   },
   "file_extension": ".py",
   "mimetype": "text/x-python",
   "name": "python",
   "nbconvert_exporter": "python",
   "pygments_lexer": "ipython3",
   "version": "3.10.7"
  }
 },
 "nbformat": 4,
 "nbformat_minor": 5
}
