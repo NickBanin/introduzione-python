{
 "cells": [
  {
   "cell_type": "markdown",
   "id": "2b3b1a29",
   "metadata": {},
   "source": [
    "# Strutture dati\n",
    "\n",
    "In molti casi è necessario conservare in una sola variabile un insieme di elementi, in tal caso si possono utilizzare le LISTE"
   ]
  },
  {
   "cell_type": "code",
   "execution_count": 1,
   "id": "35bc38ee",
   "metadata": {},
   "outputs": [],
   "source": [
    "elenco = [17, 1.5, 'banca']"
   ]
  },
  {
   "cell_type": "markdown",
   "id": "cdb3f3bf",
   "metadata": {},
   "source": [
    "Nelle liste si possono inserire oggetti di diversi tipi. Per accedere agli elementi possiamo usarne l'indice di posizione all'interno della stessa"
   ]
  },
  {
   "cell_type": "code",
   "execution_count": 2,
   "id": "386c6ffc",
   "metadata": {},
   "outputs": [
    {
     "name": "stdout",
     "output_type": "stream",
     "text": [
      "17\n"
     ]
    }
   ],
   "source": [
    "print(elenco[0])"
   ]
  },
  {
   "cell_type": "code",
   "execution_count": 3,
   "id": "66da5566",
   "metadata": {},
   "outputs": [
    {
     "name": "stdout",
     "output_type": "stream",
     "text": [
      "Indice max\n"
     ]
    }
   ],
   "source": [
    "try:\n",
    "    print(elenco[20])\n",
    "except:\n",
    "    print('Indice max')"
   ]
  },
  {
   "cell_type": "markdown",
   "id": "fb0e1e33",
   "metadata": {},
   "source": [
    "Si può scoprire il numero di elementi di una lista utilizzando la funzione _len()_"
   ]
  },
  {
   "cell_type": "code",
   "execution_count": 4,
   "id": "0ec03045",
   "metadata": {},
   "outputs": [
    {
     "data": {
      "text/plain": [
       "3"
      ]
     },
     "execution_count": 4,
     "metadata": {},
     "output_type": "execute_result"
    }
   ],
   "source": [
    "len(elenco)"
   ]
  },
  {
   "cell_type": "markdown",
   "id": "d562c25a",
   "metadata": {},
   "source": [
    "Utilizzando : è possibile selezionare delle sottoliste di quella di partenza (il primo indice è inclusivo mentre il secondo è esclusivo)"
   ]
  },
  {
   "cell_type": "code",
   "execution_count": 5,
   "id": "7658b888",
   "metadata": {},
   "outputs": [
    {
     "name": "stdout",
     "output_type": "stream",
     "text": [
      "[1.5, 'banca']\n"
     ]
    }
   ],
   "source": [
    "print(elenco[1:3])"
   ]
  },
  {
   "cell_type": "code",
   "execution_count": 6,
   "id": "fd9f8cad",
   "metadata": {},
   "outputs": [],
   "source": [
    "m=2"
   ]
  },
  {
   "cell_type": "markdown",
   "id": "de914265",
   "metadata": {},
   "source": [
    "Il modo più veloce per creare una copia di una lista è il seguente"
   ]
  },
  {
   "cell_type": "code",
   "execution_count": 7,
   "id": "70846891",
   "metadata": {},
   "outputs": [],
   "source": [
    "elenco_copia=elenco[:]"
   ]
  },
  {
   "cell_type": "markdown",
   "id": "495bdfbd",
   "metadata": {},
   "source": [
    "Si può anche definire una lista vuota"
   ]
  },
  {
   "cell_type": "code",
   "execution_count": 8,
   "id": "ac183e5d",
   "metadata": {},
   "outputs": [],
   "source": [
    "vuota=[]"
   ]
  },
  {
   "cell_type": "markdown",
   "id": "d82bcf9e",
   "metadata": {},
   "source": [
    "Si possono utilizzare delle funzioni per, ad esempio,  inserire altri elementi o per concatenarne più di due"
   ]
  },
  {
   "cell_type": "code",
   "execution_count": 9,
   "id": "27a13e94",
   "metadata": {},
   "outputs": [
    {
     "name": "stdout",
     "output_type": "stream",
     "text": [
      "[17, 'python', 1.5, 'banca']\n"
     ]
    }
   ],
   "source": [
    "elenco.insert(1,'python')\n",
    "print(elenco)"
   ]
  },
  {
   "cell_type": "code",
   "execution_count": 10,
   "id": "1aff8b88",
   "metadata": {},
   "outputs": [
    {
     "name": "stdout",
     "output_type": "stream",
     "text": [
      "['python', 1.5, 'banca']\n"
     ]
    }
   ],
   "source": [
    "elenco.remove(17)\n",
    "print(elenco)"
   ]
  },
  {
   "cell_type": "code",
   "execution_count": 12,
   "id": "57d694e3",
   "metadata": {},
   "outputs": [
    {
     "name": "stdout",
     "output_type": "stream",
     "text": [
      "['python', 1.5]\n"
     ]
    }
   ],
   "source": [
    "elenco.pop()\n",
    "print(elenco)"
   ]
  },
  {
   "cell_type": "code",
   "execution_count": 13,
   "id": "de1beb71",
   "metadata": {},
   "outputs": [
    {
     "name": "stdout",
     "output_type": "stream",
     "text": [
      "1\n"
     ]
    }
   ],
   "source": [
    "print(elenco.index(1.5))"
   ]
  },
  {
   "cell_type": "markdown",
   "id": "905206cd",
   "metadata": {},
   "source": [
    "Utilizzo dela funzione range e di funzioni built in combinate"
   ]
  },
  {
   "cell_type": "code",
   "execution_count": 16,
   "id": "9c54cd00",
   "metadata": {},
   "outputs": [
    {
     "name": "stdout",
     "output_type": "stream",
     "text": [
      "36\n"
     ]
    }
   ],
   "source": [
    "print(sum(list(range(9))))"
   ]
  },
  {
   "cell_type": "code",
   "execution_count": 19,
   "id": "aba60af7",
   "metadata": {},
   "outputs": [
    {
     "name": "stdout",
     "output_type": "stream",
     "text": [
      "[5, 7]\n"
     ]
    }
   ],
   "source": [
    "print(list(range(5,8,2)))"
   ]
  },
  {
   "cell_type": "markdown",
   "id": "ddb80dcc",
   "metadata": {},
   "source": [
    "List comprehension: una sintassi per creare liste in maniera veloce ed efficiente"
   ]
  },
  {
   "cell_type": "code",
   "execution_count": 21,
   "id": "e9824d48",
   "metadata": {},
   "outputs": [
    {
     "name": "stdout",
     "output_type": "stream",
     "text": [
      "[1, 4, 9, 16, 25]\n"
     ]
    }
   ],
   "source": [
    "numeri=[1,2,3,4,5]\n",
    "quadrati=[num*num for num in numeri]\n",
    "print(quadrati)"
   ]
  },
  {
   "cell_type": "code",
   "execution_count": 23,
   "id": "c07f00e7",
   "metadata": {},
   "outputs": [
    {
     "name": "stdout",
     "output_type": "stream",
     "text": [
      "[2, 4]\n"
     ]
    }
   ],
   "source": [
    "filtro_pari=[num for num in numeri if num%2==0]\n",
    "print(filtro_pari)"
   ]
  },
  {
   "cell_type": "code",
   "execution_count": 29,
   "id": "eda1e152",
   "metadata": {},
   "outputs": [
    {
     "data": {
      "text/plain": [
       "[[1, 1, 1, 1, 1],\n",
       " [1, 1, 1, 1, 1],\n",
       " [1, 1, 1, 1, 1],\n",
       " [1, 1, 1, 1, 1],\n",
       " [1, 1, 1, 1, 1]]"
      ]
     },
     "execution_count": 29,
     "metadata": {},
     "output_type": "execute_result"
    }
   ],
   "source": [
    "matrice=[[1 for _ in range(5)] for _ in range(5)]\n",
    "matrice"
   ]
  },
  {
   "cell_type": "markdown",
   "id": "c59a47bb",
   "metadata": {},
   "source": [
    "# Esercizi"
   ]
  },
  {
   "cell_type": "markdown",
   "id": "c59fe209",
   "metadata": {},
   "source": [
    "Prima task:\n",
    "\n",
    "salvare la dimensione della matrice in una variabile \"n\" e generare matrici di dimensione diversa a seconda del valore di n\n",
    "\n",
    "Seconda task:\n",
    "\n",
    "trasformare il codice facendo in modo di produrre la matrice identità di dimensione n (tutti zeri, tranne che sulla diagonale principale)"
   ]
  },
  {
   "cell_type": "code",
   "execution_count": 30,
   "id": "34e14fd1",
   "metadata": {},
   "outputs": [
    {
     "data": {
      "text/plain": [
       "25"
      ]
     },
     "execution_count": 30,
     "metadata": {},
     "output_type": "execute_result"
    }
   ],
   "source": [
    "dimensione=(len(matrice_n[1])*len(matrice_n[1]))\n",
    "dimensione"
   ]
  },
  {
   "cell_type": "code",
   "execution_count": 36,
   "id": "a6db467a",
   "metadata": {},
   "outputs": [
    {
     "name": "stdout",
     "output_type": "stream",
     "text": [
      "[1, 1, 1, 1, 1]\n",
      "[1, 1, 1, 1, 1]\n",
      "[1, 1, 1, 1, 1]\n",
      "[1, 1, 1, 1, 1]\n",
      "[1, 1, 1, 1, 1]\n"
     ]
    },
    {
     "data": {
      "text/plain": [
       "25"
      ]
     },
     "execution_count": 36,
     "metadata": {},
     "output_type": "execute_result"
    }
   ],
   "source": [
    "n=5\n",
    "matrice_n=[[1 for _ in range(n)] for _ in range(n)]\n",
    "dimensione=(len(matrice_n[1])*len(matrice_n[1]))\n",
    "for riga in matrice_n:\n",
    "    print(riga)\n",
    "dimensione"
   ]
  },
  {
   "cell_type": "code",
   "execution_count": 2,
   "id": "41057422",
   "metadata": {},
   "outputs": [],
   "source": [
    "n=7\n",
    "riga=[0 for _ in range(n)]\n",
    "matrice_id=[[1 if i==j else 0 for i in range(n)] for j in range(n)]"
   ]
  },
  {
   "cell_type": "code",
   "execution_count": 3,
   "id": "05cd89cf",
   "metadata": {},
   "outputs": [
    {
     "name": "stdout",
     "output_type": "stream",
     "text": [
      "[1, 0, 0, 0, 0, 0, 0]\n",
      "[0, 1, 0, 0, 0, 0, 0]\n",
      "[0, 0, 1, 0, 0, 0, 0]\n",
      "[0, 0, 0, 1, 0, 0, 0]\n",
      "[0, 0, 0, 0, 1, 0, 0]\n",
      "[0, 0, 0, 0, 0, 1, 0]\n",
      "[0, 0, 0, 0, 0, 0, 1]\n"
     ]
    }
   ],
   "source": [
    "for riga in matrice_id:\n",
    "    print(riga)"
   ]
  },
  {
   "cell_type": "code",
   "execution_count": null,
   "id": "6ee2668e",
   "metadata": {},
   "outputs": [],
   "source": []
  }
 ],
 "metadata": {
  "kernelspec": {
   "display_name": "Python 3 (ipykernel)",
   "language": "python",
   "name": "python3"
  },
  "language_info": {
   "codemirror_mode": {
    "name": "ipython",
    "version": 3
   },
   "file_extension": ".py",
   "mimetype": "text/x-python",
   "name": "python",
   "nbconvert_exporter": "python",
   "pygments_lexer": "ipython3",
   "version": "3.10.7"
  }
 },
 "nbformat": 4,
 "nbformat_minor": 5
}
