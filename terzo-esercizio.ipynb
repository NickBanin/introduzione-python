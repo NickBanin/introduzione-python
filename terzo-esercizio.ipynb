{
 "cells": [
  {
   "cell_type": "markdown",
   "id": "a0dfc727",
   "metadata": {},
   "source": [
    "# Le stringhe\n"
   ]
  },
  {
   "cell_type": "markdown",
   "id": "81eff255",
   "metadata": {},
   "source": [
    "In Python le stringhe sono viste come una sequenza di caratteri, esse sono un tipo di dato che contiene funzioni per poterle utilizzare più comodamente"
   ]
  },
  {
   "cell_type": "code",
   "execution_count": 3,
   "id": "aba724c4",
   "metadata": {},
   "outputs": [
    {
     "name": "stdout",
     "output_type": "stream",
     "text": [
      "01234 12345678 89\n"
     ]
    }
   ],
   "source": [
    "s='0123456789'\n",
    "print(s[:5], s[1:-1], s[-2:])"
   ]
  },
  {
   "cell_type": "code",
   "execution_count": 4,
   "id": "92601556",
   "metadata": {},
   "outputs": [
    {
     "name": "stdout",
     "output_type": "stream",
     "text": [
      "02468\n"
     ]
    }
   ],
   "source": [
    "print(s[::2])"
   ]
  },
  {
   "cell_type": "code",
   "execution_count": 6,
   "id": "3b6da0ff",
   "metadata": {},
   "outputs": [
    {
     "name": "stdout",
     "output_type": "stream",
     "text": [
      "[0, 1, 'ciao', 3, 4, 5, 6, 7, 8, 9]\n"
     ]
    }
   ],
   "source": [
    "l=[0,1,2,3,4,5,6,7,8,9]\n",
    "l[2]='ciao'\n",
    "print(l)"
   ]
  },
  {
   "cell_type": "markdown",
   "id": "70679aeb",
   "metadata": {},
   "source": [
    "A differenza delle liste, le stringhe sono oggetti immutabili: non possiamo quindi assegnare valori in posti specifici"
   ]
  },
  {
   "cell_type": "code",
   "execution_count": 8,
   "id": "a1f79f9c",
   "metadata": {},
   "outputs": [
    {
     "ename": "TypeError",
     "evalue": "'str' object does not support item assignment",
     "output_type": "error",
     "traceback": [
      "\u001b[1;31m---------------------------------------------------------------------------\u001b[0m",
      "\u001b[1;31mTypeError\u001b[0m                                 Traceback (most recent call last)",
      "Cell \u001b[1;32mIn [8], line 1\u001b[0m\n\u001b[1;32m----> 1\u001b[0m \u001b[43ms\u001b[49m\u001b[43m[\u001b[49m\u001b[38;5;241;43m2\u001b[39;49m\u001b[43m]\u001b[49m\u001b[38;5;241m=\u001b[39m\u001b[38;5;124m'\u001b[39m\u001b[38;5;124mx\u001b[39m\u001b[38;5;124m'\u001b[39m\n",
      "\u001b[1;31mTypeError\u001b[0m: 'str' object does not support item assignment"
     ]
    }
   ],
   "source": [
    "s[2]='x'"
   ]
  },
  {
   "cell_type": "code",
   "execution_count": 9,
   "id": "8cad9caa",
   "metadata": {},
   "outputs": [
    {
     "name": "stdout",
     "output_type": "stream",
     "text": [
      "Le stringhe non possono essere modificate\n"
     ]
    }
   ],
   "source": [
    "try:\n",
    "    s[2] = 'x'\n",
    "except:\n",
    "    print('Le stringhe non possono essere modificate')"
   ]
  },
  {
   "cell_type": "markdown",
   "id": "49d4ea9d",
   "metadata": {},
   "source": [
    "Possiamo però andare a creare delle substring e concatenarle con le modifiche che vogliamo fare"
   ]
  },
  {
   "cell_type": "code",
   "execution_count": 10,
   "id": "b12015e7",
   "metadata": {},
   "outputs": [
    {
     "data": {
      "text/plain": [
       "'01x3456789'"
      ]
     },
     "execution_count": 10,
     "metadata": {},
     "output_type": "execute_result"
    }
   ],
   "source": [
    "s = s[:2] + 'x' + s[3:]\n",
    "s"
   ]
  },
  {
   "cell_type": "code",
   "execution_count": 12,
   "id": "8610c6be",
   "metadata": {},
   "outputs": [
    {
     "data": {
      "text/plain": [
       "'Questo è un \"esempio\" di utilizzo di apici combinati'"
      ]
     },
     "execution_count": 12,
     "metadata": {},
     "output_type": "execute_result"
    }
   ],
   "source": [
    "s2 = \"Ciao\"\n",
    "s3 = 'Questo è un \"esempio\" di utilizzo di apici combinati'\n",
    "s3"
   ]
  },
  {
   "cell_type": "markdown",
   "id": "213c42fb",
   "metadata": {},
   "source": [
    "All'interno delle stringhe possiamo utilizzare i caratteri di escape"
   ]
  },
  {
   "cell_type": "code",
   "execution_count": 18,
   "id": "c1c188c0",
   "metadata": {},
   "outputs": [
    {
     "name": "stdout",
     "output_type": "stream",
     "text": [
      "1 \n",
      " 2 \n",
      "  3 \n",
      "   auguri\n"
     ]
    }
   ],
   "source": [
    "s = '1 \\n 2 \\n  3 \\n   auguri'\n",
    "print(s)"
   ]
  },
  {
   "cell_type": "code",
   "execution_count": 21,
   "id": "3df30ae1",
   "metadata": {},
   "outputs": [
    {
     "name": "stdout",
     "output_type": "stream",
     "text": [
      "NOME\tCOGNOME\n",
      "NICOLA\tBANIN\n"
     ]
    }
   ],
   "source": [
    "st = 'NOME\\tCOGNOME\\nNICOLA\\tBANIN'\n",
    "print(st)"
   ]
  },
  {
   "cell_type": "code",
   "execution_count": 23,
   "id": "df1951ee",
   "metadata": {},
   "outputs": [
    {
     "name": "stdout",
     "output_type": "stream",
     "text": [
      "Questa stringa ci permette di \n",
      "andare a capo e di utilizzare\n",
      "'gli apici' singoli\n",
      "\n"
     ]
    }
   ],
   "source": [
    "s=\"\"\"Questa stringa ci permette di \n",
    "andare a capo e di utilizzare\n",
    "'gli apici' singoli\n",
    "\"\"\"\n",
    "print(s)"
   ]
  },
  {
   "cell_type": "markdown",
   "id": "e8068c22",
   "metadata": {},
   "source": [
    "Si puo utilizzare l'operatore + per concatenare le stringhe e il * per ripterla più volte"
   ]
  },
  {
   "cell_type": "code",
   "execution_count": 24,
   "id": "2fa748a7",
   "metadata": {},
   "outputs": [
    {
     "name": "stdout",
     "output_type": "stream",
     "text": [
      "ciaociaociao\n"
     ]
    }
   ],
   "source": [
    "s='ciao'\n",
    "print(s*3)"
   ]
  },
  {
   "cell_type": "markdown",
   "id": "0adf9ed9",
   "metadata": {},
   "source": [
    "Si può anche sovrascrivere il comportamento degli operatori fondamentali"
   ]
  },
  {
   "cell_type": "code",
   "execution_count": 28,
   "id": "278add6a",
   "metadata": {},
   "outputs": [
    {
     "name": "stdout",
     "output_type": "stream",
     "text": [
      "0-1-2-3-4-5-6-7-8-9\n"
     ]
    }
   ],
   "source": [
    "l=[0,1,2,3,4,5,6,7,8,9]\n",
    "st = '-'.join([str(v) for v in l]) #join permette invece di separare gli elementi della stringa di partenza con un elemento dato in input \n",
    "print(st)"
   ]
  },
  {
   "cell_type": "code",
   "execution_count": 30,
   "id": "e91ca955",
   "metadata": {},
   "outputs": [
    {
     "data": {
      "text/plain": [
       "'                  pieno di spazi              '"
      ]
     },
     "execution_count": 30,
     "metadata": {},
     "output_type": "execute_result"
    }
   ],
   "source": [
    "st= '                  pieno di spazi              '\n",
    "st"
   ]
  },
  {
   "cell_type": "code",
   "execution_count": 32,
   "id": "606c2ff8",
   "metadata": {},
   "outputs": [
    {
     "name": "stdout",
     "output_type": "stream",
     "text": [
      "pieno di spazi\n"
     ]
    }
   ],
   "source": [
    "print(st.strip()) #questa funzione elimina gli spazi all'inizio e fine della stringa"
   ]
  },
  {
   "cell_type": "code",
   "execution_count": 35,
   "id": "a0f98500",
   "metadata": {},
   "outputs": [
    {
     "name": "stdout",
     "output_type": "stream",
     "text": [
      "                  vuota di spazi              \n"
     ]
    }
   ],
   "source": [
    "st2=st.replace('pieno','vuota')\n",
    "print(st2)"
   ]
  },
  {
   "cell_type": "code",
   "execution_count": 39,
   "id": "135b7339",
   "metadata": {},
   "outputs": [
    {
     "name": "stdout",
     "output_type": "stream",
     "text": [
      "a-b-c-d\n"
     ]
    }
   ],
   "source": [
    "#join() unisce gli elementi di una lista, per separare i caratteri di una stringa e metterli in una lista si deve usare split()\n",
    "l=['a','b','c','d']\n",
    "nuova_stringa = '-'.join(l)\n",
    "print(nuova_stringa)"
   ]
  },
  {
   "cell_type": "code",
   "execution_count": 40,
   "id": "1f1c81d4",
   "metadata": {},
   "outputs": [
    {
     "name": "stdout",
     "output_type": "stream",
     "text": [
      "['a', 'b', 'c', 'd']\n"
     ]
    }
   ],
   "source": [
    "nuova_lista=nuova_stringa.split('-')\n",
    "print(nuova_lista)"
   ]
  },
  {
   "cell_type": "markdown",
   "id": "179a3987",
   "metadata": {},
   "source": [
    "Vediamo ora un operatore utile sugli insiemi"
   ]
  },
  {
   "cell_type": "markdown",
   "id": "a5edc23d",
   "metadata": {},
   "source": [
    "# Le tuple"
   ]
  },
  {
   "cell_type": "code",
   "execution_count": 41,
   "id": "5599399d",
   "metadata": {},
   "outputs": [
    {
     "name": "stdout",
     "output_type": "stream",
     "text": [
      "in usato per le tuple False True\n"
     ]
    }
   ],
   "source": [
    "t=(1, 43, 9, 25, 98)\n",
    "print('in usato per le tuple', 5 in t, 1 in t)"
   ]
  },
  {
   "cell_type": "code",
   "execution_count": 42,
   "id": "d4cf0254",
   "metadata": {},
   "outputs": [
    {
     "name": "stdout",
     "output_type": "stream",
     "text": [
      "in usato per le liste False True\n"
     ]
    }
   ],
   "source": [
    "l=[el for el in t]\n",
    "print('in usato per le liste', 5 in t, 1 in t)"
   ]
  },
  {
   "cell_type": "code",
   "execution_count": 47,
   "id": "82c7db7a",
   "metadata": {},
   "outputs": [
    {
     "name": "stdout",
     "output_type": "stream",
     "text": [
      "in usato per le stringhe True True\n",
      "14392598\n"
     ]
    }
   ],
   "source": [
    "s=''.join([str(n) for n in t])\n",
    "print('in usato per le stringhe', '5' in s, '1' in s) #li vede come singole cifre-carattere\n",
    "print(s)"
   ]
  },
  {
   "cell_type": "markdown",
   "id": "99cd9a7c",
   "metadata": {},
   "source": [
    "Per inizializzare una tupla contenente un singolo elemento è necessario includere nella dichiarazione una virgola, in caso contrario le parentesi verranno interpretate come un'espressione e non come una dichiarazione di tupla"
   ]
  },
  {
   "cell_type": "code",
   "execution_count": 49,
   "id": "d846be9f",
   "metadata": {},
   "outputs": [
    {
     "name": "stdout",
     "output_type": "stream",
     "text": [
      "(2,)\n"
     ]
    }
   ],
   "source": [
    "tupla_mini = (2,)\n",
    "print(tupla_mini)"
   ]
  },
  {
   "cell_type": "markdown",
   "id": "63b4e39e",
   "metadata": {},
   "source": [
    "OSS: è sempre possibile convertire un oggetto in uno di un altro tipo"
   ]
  },
  {
   "cell_type": "markdown",
   "id": "445f8bce",
   "metadata": {},
   "source": [
    "# Gli insiemi\n",
    "Come le tuple sono strutture immutabili con operatori specifici. La differenza consiste nel fatto che essi non possono contenere duplicati degli elementi: non tiene conto di occorrenze multiple"
   ]
  },
  {
   "cell_type": "code",
   "execution_count": 50,
   "id": "31364588",
   "metadata": {},
   "outputs": [
    {
     "name": "stdout",
     "output_type": "stream",
     "text": [
      "{0, 1}\n"
     ]
    }
   ],
   "source": [
    "insieme={0,0,1,1,0}\n",
    "print(insieme)"
   ]
  },
  {
   "cell_type": "code",
   "execution_count": null,
   "id": "f1ee65f4",
   "metadata": {},
   "outputs": [],
   "source": []
  },
  {
   "cell_type": "code",
   "execution_count": null,
   "id": "24f1857d",
   "metadata": {},
   "outputs": [],
   "source": []
  },
  {
   "cell_type": "code",
   "execution_count": null,
   "id": "6e769944",
   "metadata": {},
   "outputs": [],
   "source": []
  },
  {
   "cell_type": "code",
   "execution_count": null,
   "id": "bf5b4932",
   "metadata": {},
   "outputs": [],
   "source": []
  },
  {
   "cell_type": "code",
   "execution_count": null,
   "id": "5467af70",
   "metadata": {},
   "outputs": [],
   "source": []
  },
  {
   "cell_type": "code",
   "execution_count": null,
   "id": "e3ae0ab2",
   "metadata": {},
   "outputs": [],
   "source": []
  }
 ],
 "metadata": {
  "kernelspec": {
   "display_name": "Python 3 (ipykernel)",
   "language": "python",
   "name": "python3"
  },
  "language_info": {
   "codemirror_mode": {
    "name": "ipython",
    "version": 3
   },
   "file_extension": ".py",
   "mimetype": "text/x-python",
   "name": "python",
   "nbconvert_exporter": "python",
   "pygments_lexer": "ipython3",
   "version": "3.10.7"
  }
 },
 "nbformat": 4,
 "nbformat_minor": 5
}
