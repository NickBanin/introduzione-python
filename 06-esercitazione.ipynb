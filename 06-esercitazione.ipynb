{
 "cells": [
  {
   "cell_type": "markdown",
   "id": "c8ac6e55",
   "metadata": {},
   "source": [
    "## La libreria _random_"
   ]
  },
  {
   "cell_type": "code",
   "execution_count": 1,
   "id": "803f9032",
   "metadata": {},
   "outputs": [
    {
     "name": "stdout",
     "output_type": "stream",
     "text": [
      "Help on module random:\n",
      "\n",
      "NAME\n",
      "    random - Random variable generators.\n",
      "\n",
      "MODULE REFERENCE\n",
      "    https://docs.python.org/3.10/library/random.html\n",
      "    \n",
      "    The following documentation is automatically generated from the Python\n",
      "    source files.  It may be incomplete, incorrect or include features that\n",
      "    are considered implementation detail and may vary between Python\n",
      "    implementations.  When in doubt, consult the module reference at the\n",
      "    location listed above.\n",
      "\n",
      "DESCRIPTION\n",
      "        bytes\n",
      "        -----\n",
      "               uniform bytes (values between 0 and 255)\n",
      "    \n",
      "        integers\n",
      "        --------\n",
      "               uniform within range\n",
      "    \n",
      "        sequences\n",
      "        ---------\n",
      "               pick random element\n",
      "               pick random sample\n",
      "               pick weighted random sample\n",
      "               generate random permutation\n",
      "    \n",
      "        distributions on the real line:\n",
      "        ------------------------------\n",
      "               uniform\n",
      "               triangular\n",
      "               normal (Gaussian)\n",
      "               lognormal\n",
      "               negative exponential\n",
      "               gamma\n",
      "               beta\n",
      "               pareto\n",
      "               Weibull\n",
      "    \n",
      "        distributions on the circle (angles 0 to 2pi)\n",
      "        ---------------------------------------------\n",
      "               circular uniform\n",
      "               von Mises\n",
      "    \n",
      "    General notes on the underlying Mersenne Twister core generator:\n",
      "    \n",
      "    * The period is 2**19937-1.\n",
      "    * It is one of the most extensively tested generators in existence.\n",
      "    * The random() method is implemented in C, executes in a single Python step,\n",
      "      and is, therefore, threadsafe.\n",
      "\n",
      "CLASSES\n",
      "    _random.Random(builtins.object)\n",
      "        Random\n",
      "            SystemRandom\n",
      "    \n",
      "    class Random(_random.Random)\n",
      "     |  Random(x=None)\n",
      "     |  \n",
      "     |  Random number generator base class used by bound module functions.\n",
      "     |  \n",
      "     |  Used to instantiate instances of Random to get generators that don't\n",
      "     |  share state.\n",
      "     |  \n",
      "     |  Class Random can also be subclassed if you want to use a different basic\n",
      "     |  generator of your own devising: in that case, override the following\n",
      "     |  methods:  random(), seed(), getstate(), and setstate().\n",
      "     |  Optionally, implement a getrandbits() method so that randrange()\n",
      "     |  can cover arbitrarily large ranges.\n",
      "     |  \n",
      "     |  Method resolution order:\n",
      "     |      Random\n",
      "     |      _random.Random\n",
      "     |      builtins.object\n",
      "     |  \n",
      "     |  Methods defined here:\n",
      "     |  \n",
      "     |  __getstate__(self)\n",
      "     |      # Issue 17489: Since __reduce__ was defined to fix #759889 this is no\n",
      "     |      # longer called; we leave it here because it has been here since random was\n",
      "     |      # rewritten back in 2001 and why risk breaking something.\n",
      "     |  \n",
      "     |  __init__(self, x=None)\n",
      "     |      Initialize an instance.\n",
      "     |      \n",
      "     |      Optional argument x controls seeding, as for Random.seed().\n",
      "     |  \n",
      "     |  __reduce__(self)\n",
      "     |      Helper for pickle.\n",
      "     |  \n",
      "     |  __setstate__(self, state)\n",
      "     |  \n",
      "     |  betavariate(self, alpha, beta)\n",
      "     |      Beta distribution.\n",
      "     |      \n",
      "     |      Conditions on the parameters are alpha > 0 and beta > 0.\n",
      "     |      Returned values range between 0 and 1.\n",
      "     |  \n",
      "     |  choice(self, seq)\n",
      "     |      Choose a random element from a non-empty sequence.\n",
      "     |  \n",
      "     |  choices(self, population, weights=None, *, cum_weights=None, k=1)\n",
      "     |      Return a k sized list of population elements chosen with replacement.\n",
      "     |      \n",
      "     |      If the relative weights or cumulative weights are not specified,\n",
      "     |      the selections are made with equal probability.\n",
      "     |  \n",
      "     |  expovariate(self, lambd)\n",
      "     |      Exponential distribution.\n",
      "     |      \n",
      "     |      lambd is 1.0 divided by the desired mean.  It should be\n",
      "     |      nonzero.  (The parameter would be called \"lambda\", but that is\n",
      "     |      a reserved word in Python.)  Returned values range from 0 to\n",
      "     |      positive infinity if lambd is positive, and from negative\n",
      "     |      infinity to 0 if lambd is negative.\n",
      "     |  \n",
      "     |  gammavariate(self, alpha, beta)\n",
      "     |      Gamma distribution.  Not the gamma function!\n",
      "     |      \n",
      "     |      Conditions on the parameters are alpha > 0 and beta > 0.\n",
      "     |      \n",
      "     |      The probability distribution function is:\n",
      "     |      \n",
      "     |                  x ** (alpha - 1) * math.exp(-x / beta)\n",
      "     |        pdf(x) =  --------------------------------------\n",
      "     |                    math.gamma(alpha) * beta ** alpha\n",
      "     |  \n",
      "     |  gauss(self, mu, sigma)\n",
      "     |      Gaussian distribution.\n",
      "     |      \n",
      "     |      mu is the mean, and sigma is the standard deviation.  This is\n",
      "     |      slightly faster than the normalvariate() function.\n",
      "     |      \n",
      "     |      Not thread-safe without a lock around calls.\n",
      "     |  \n",
      "     |  getstate(self)\n",
      "     |      Return internal state; can be passed to setstate() later.\n",
      "     |  \n",
      "     |  lognormvariate(self, mu, sigma)\n",
      "     |      Log normal distribution.\n",
      "     |      \n",
      "     |      If you take the natural logarithm of this distribution, you'll get a\n",
      "     |      normal distribution with mean mu and standard deviation sigma.\n",
      "     |      mu can have any value, and sigma must be greater than zero.\n",
      "     |  \n",
      "     |  normalvariate(self, mu, sigma)\n",
      "     |      Normal distribution.\n",
      "     |      \n",
      "     |      mu is the mean, and sigma is the standard deviation.\n",
      "     |  \n",
      "     |  paretovariate(self, alpha)\n",
      "     |      Pareto distribution.  alpha is the shape parameter.\n",
      "     |  \n",
      "     |  randbytes(self, n)\n",
      "     |      Generate n random bytes.\n",
      "     |  \n",
      "     |  randint(self, a, b)\n",
      "     |      Return random integer in range [a, b], including both end points.\n",
      "     |  \n",
      "     |  randrange(self, start, stop=None, step=1)\n",
      "     |      Choose a random item from range(start, stop[, step]).\n",
      "     |      \n",
      "     |      This fixes the problem with randint() which includes the\n",
      "     |      endpoint; in Python this is usually not what you want.\n",
      "     |  \n",
      "     |  sample(self, population, k, *, counts=None)\n",
      "     |      Chooses k unique random elements from a population sequence or set.\n",
      "     |      \n",
      "     |      Returns a new list containing elements from the population while\n",
      "     |      leaving the original population unchanged.  The resulting list is\n",
      "     |      in selection order so that all sub-slices will also be valid random\n",
      "     |      samples.  This allows raffle winners (the sample) to be partitioned\n",
      "     |      into grand prize and second place winners (the subslices).\n",
      "     |      \n",
      "     |      Members of the population need not be hashable or unique.  If the\n",
      "     |      population contains repeats, then each occurrence is a possible\n",
      "     |      selection in the sample.\n",
      "     |      \n",
      "     |      Repeated elements can be specified one at a time or with the optional\n",
      "     |      counts parameter.  For example:\n",
      "     |      \n",
      "     |          sample(['red', 'blue'], counts=[4, 2], k=5)\n",
      "     |      \n",
      "     |      is equivalent to:\n",
      "     |      \n",
      "     |          sample(['red', 'red', 'red', 'red', 'blue', 'blue'], k=5)\n",
      "     |      \n",
      "     |      To choose a sample from a range of integers, use range() for the\n",
      "     |      population argument.  This is especially fast and space efficient\n",
      "     |      for sampling from a large population:\n",
      "     |      \n",
      "     |          sample(range(10000000), 60)\n",
      "     |  \n",
      "     |  seed(self, a=None, version=2)\n",
      "     |      Initialize internal state from a seed.\n",
      "     |      \n",
      "     |      The only supported seed types are None, int, float,\n",
      "     |      str, bytes, and bytearray.\n",
      "     |      \n",
      "     |      None or no argument seeds from current time or from an operating\n",
      "     |      system specific randomness source if available.\n",
      "     |      \n",
      "     |      If *a* is an int, all bits are used.\n",
      "     |      \n",
      "     |      For version 2 (the default), all of the bits are used if *a* is a str,\n",
      "     |      bytes, or bytearray.  For version 1 (provided for reproducing random\n",
      "     |      sequences from older versions of Python), the algorithm for str and\n",
      "     |      bytes generates a narrower range of seeds.\n",
      "     |  \n",
      "     |  setstate(self, state)\n",
      "     |      Restore internal state from object returned by getstate().\n",
      "     |  \n",
      "     |  shuffle(self, x, random=None)\n",
      "     |      Shuffle list x in place, and return None.\n",
      "     |      \n",
      "     |      Optional argument random is a 0-argument function returning a\n",
      "     |      random float in [0.0, 1.0); if it is the default None, the\n",
      "     |      standard random.random will be used.\n",
      "     |  \n",
      "     |  triangular(self, low=0.0, high=1.0, mode=None)\n",
      "     |      Triangular distribution.\n",
      "     |      \n",
      "     |      Continuous distribution bounded by given lower and upper limits,\n",
      "     |      and having a given mode value in-between.\n",
      "     |      \n",
      "     |      http://en.wikipedia.org/wiki/Triangular_distribution\n",
      "     |  \n",
      "     |  uniform(self, a, b)\n",
      "     |      Get a random number in the range [a, b) or [a, b] depending on rounding.\n",
      "     |  \n",
      "     |  vonmisesvariate(self, mu, kappa)\n",
      "     |      Circular data distribution.\n",
      "     |      \n",
      "     |      mu is the mean angle, expressed in radians between 0 and 2*pi, and\n",
      "     |      kappa is the concentration parameter, which must be greater than or\n",
      "     |      equal to zero.  If kappa is equal to zero, this distribution reduces\n",
      "     |      to a uniform random angle over the range 0 to 2*pi.\n",
      "     |  \n",
      "     |  weibullvariate(self, alpha, beta)\n",
      "     |      Weibull distribution.\n",
      "     |      \n",
      "     |      alpha is the scale parameter and beta is the shape parameter.\n",
      "     |  \n",
      "     |  ----------------------------------------------------------------------\n",
      "     |  Class methods defined here:\n",
      "     |  \n",
      "     |  __init_subclass__(**kwargs) from builtins.type\n",
      "     |      Control how subclasses generate random integers.\n",
      "     |      \n",
      "     |      The algorithm a subclass can use depends on the random() and/or\n",
      "     |      getrandbits() implementation available to it and determines\n",
      "     |      whether it can generate random integers from arbitrarily large\n",
      "     |      ranges.\n",
      "     |  \n",
      "     |  ----------------------------------------------------------------------\n",
      "     |  Data descriptors defined here:\n",
      "     |  \n",
      "     |  __dict__\n",
      "     |      dictionary for instance variables (if defined)\n",
      "     |  \n",
      "     |  __weakref__\n",
      "     |      list of weak references to the object (if defined)\n",
      "     |  \n",
      "     |  ----------------------------------------------------------------------\n",
      "     |  Data and other attributes defined here:\n",
      "     |  \n",
      "     |  VERSION = 3\n",
      "     |  \n",
      "     |  ----------------------------------------------------------------------\n",
      "     |  Methods inherited from _random.Random:\n",
      "     |  \n",
      "     |  getrandbits(self, k, /)\n",
      "     |      getrandbits(k) -> x.  Generates an int with k random bits.\n",
      "     |  \n",
      "     |  random(self, /)\n",
      "     |      random() -> x in the interval [0, 1).\n",
      "     |  \n",
      "     |  ----------------------------------------------------------------------\n",
      "     |  Static methods inherited from _random.Random:\n",
      "     |  \n",
      "     |  __new__(*args, **kwargs) from builtins.type\n",
      "     |      Create and return a new object.  See help(type) for accurate signature.\n",
      "    \n",
      "    class SystemRandom(Random)\n",
      "     |  SystemRandom(x=None)\n",
      "     |  \n",
      "     |  Alternate random number generator using sources provided\n",
      "     |  by the operating system (such as /dev/urandom on Unix or\n",
      "     |  CryptGenRandom on Windows).\n",
      "     |  \n",
      "     |   Not available on all systems (see os.urandom() for details).\n",
      "     |  \n",
      "     |  Method resolution order:\n",
      "     |      SystemRandom\n",
      "     |      Random\n",
      "     |      _random.Random\n",
      "     |      builtins.object\n",
      "     |  \n",
      "     |  Methods defined here:\n",
      "     |  \n",
      "     |  getrandbits(self, k)\n",
      "     |      getrandbits(k) -> x.  Generates an int with k random bits.\n",
      "     |  \n",
      "     |  getstate = _notimplemented(self, *args, **kwds)\n",
      "     |  \n",
      "     |  randbytes(self, n)\n",
      "     |      Generate n random bytes.\n",
      "     |  \n",
      "     |  random(self)\n",
      "     |      Get the next random number in the range [0.0, 1.0).\n",
      "     |  \n",
      "     |  seed(self, *args, **kwds)\n",
      "     |      Stub method.  Not used for a system random number generator.\n",
      "     |  \n",
      "     |  setstate = _notimplemented(self, *args, **kwds)\n",
      "     |  \n",
      "     |  ----------------------------------------------------------------------\n",
      "     |  Methods inherited from Random:\n",
      "     |  \n",
      "     |  __getstate__(self)\n",
      "     |      # Issue 17489: Since __reduce__ was defined to fix #759889 this is no\n",
      "     |      # longer called; we leave it here because it has been here since random was\n",
      "     |      # rewritten back in 2001 and why risk breaking something.\n",
      "     |  \n",
      "     |  __init__(self, x=None)\n",
      "     |      Initialize an instance.\n",
      "     |      \n",
      "     |      Optional argument x controls seeding, as for Random.seed().\n",
      "     |  \n",
      "     |  __reduce__(self)\n",
      "     |      Helper for pickle.\n",
      "     |  \n",
      "     |  __setstate__(self, state)\n",
      "     |  \n",
      "     |  betavariate(self, alpha, beta)\n",
      "     |      Beta distribution.\n",
      "     |      \n",
      "     |      Conditions on the parameters are alpha > 0 and beta > 0.\n",
      "     |      Returned values range between 0 and 1.\n",
      "     |  \n",
      "     |  choice(self, seq)\n",
      "     |      Choose a random element from a non-empty sequence.\n",
      "     |  \n",
      "     |  choices(self, population, weights=None, *, cum_weights=None, k=1)\n",
      "     |      Return a k sized list of population elements chosen with replacement.\n",
      "     |      \n",
      "     |      If the relative weights or cumulative weights are not specified,\n",
      "     |      the selections are made with equal probability.\n",
      "     |  \n",
      "     |  expovariate(self, lambd)\n",
      "     |      Exponential distribution.\n",
      "     |      \n",
      "     |      lambd is 1.0 divided by the desired mean.  It should be\n",
      "     |      nonzero.  (The parameter would be called \"lambda\", but that is\n",
      "     |      a reserved word in Python.)  Returned values range from 0 to\n",
      "     |      positive infinity if lambd is positive, and from negative\n",
      "     |      infinity to 0 if lambd is negative.\n",
      "     |  \n",
      "     |  gammavariate(self, alpha, beta)\n",
      "     |      Gamma distribution.  Not the gamma function!\n",
      "     |      \n",
      "     |      Conditions on the parameters are alpha > 0 and beta > 0.\n",
      "     |      \n",
      "     |      The probability distribution function is:\n",
      "     |      \n",
      "     |                  x ** (alpha - 1) * math.exp(-x / beta)\n",
      "     |        pdf(x) =  --------------------------------------\n",
      "     |                    math.gamma(alpha) * beta ** alpha\n",
      "     |  \n",
      "     |  gauss(self, mu, sigma)\n",
      "     |      Gaussian distribution.\n",
      "     |      \n",
      "     |      mu is the mean, and sigma is the standard deviation.  This is\n",
      "     |      slightly faster than the normalvariate() function.\n",
      "     |      \n",
      "     |      Not thread-safe without a lock around calls.\n",
      "     |  \n",
      "     |  lognormvariate(self, mu, sigma)\n",
      "     |      Log normal distribution.\n",
      "     |      \n",
      "     |      If you take the natural logarithm of this distribution, you'll get a\n",
      "     |      normal distribution with mean mu and standard deviation sigma.\n",
      "     |      mu can have any value, and sigma must be greater than zero.\n",
      "     |  \n",
      "     |  normalvariate(self, mu, sigma)\n",
      "     |      Normal distribution.\n",
      "     |      \n",
      "     |      mu is the mean, and sigma is the standard deviation.\n",
      "     |  \n",
      "     |  paretovariate(self, alpha)\n",
      "     |      Pareto distribution.  alpha is the shape parameter.\n",
      "     |  \n",
      "     |  randint(self, a, b)\n",
      "     |      Return random integer in range [a, b], including both end points.\n",
      "     |  \n",
      "     |  randrange(self, start, stop=None, step=1)\n",
      "     |      Choose a random item from range(start, stop[, step]).\n",
      "     |      \n",
      "     |      This fixes the problem with randint() which includes the\n",
      "     |      endpoint; in Python this is usually not what you want.\n",
      "     |  \n",
      "     |  sample(self, population, k, *, counts=None)\n",
      "     |      Chooses k unique random elements from a population sequence or set.\n",
      "     |      \n",
      "     |      Returns a new list containing elements from the population while\n",
      "     |      leaving the original population unchanged.  The resulting list is\n",
      "     |      in selection order so that all sub-slices will also be valid random\n",
      "     |      samples.  This allows raffle winners (the sample) to be partitioned\n",
      "     |      into grand prize and second place winners (the subslices).\n",
      "     |      \n",
      "     |      Members of the population need not be hashable or unique.  If the\n",
      "     |      population contains repeats, then each occurrence is a possible\n",
      "     |      selection in the sample.\n",
      "     |      \n",
      "     |      Repeated elements can be specified one at a time or with the optional\n",
      "     |      counts parameter.  For example:\n",
      "     |      \n",
      "     |          sample(['red', 'blue'], counts=[4, 2], k=5)\n",
      "     |      \n",
      "     |      is equivalent to:\n",
      "     |      \n",
      "     |          sample(['red', 'red', 'red', 'red', 'blue', 'blue'], k=5)\n",
      "     |      \n",
      "     |      To choose a sample from a range of integers, use range() for the\n",
      "     |      population argument.  This is especially fast and space efficient\n",
      "     |      for sampling from a large population:\n",
      "     |      \n",
      "     |          sample(range(10000000), 60)\n",
      "     |  \n",
      "     |  shuffle(self, x, random=None)\n",
      "     |      Shuffle list x in place, and return None.\n",
      "     |      \n",
      "     |      Optional argument random is a 0-argument function returning a\n",
      "     |      random float in [0.0, 1.0); if it is the default None, the\n",
      "     |      standard random.random will be used.\n",
      "     |  \n",
      "     |  triangular(self, low=0.0, high=1.0, mode=None)\n",
      "     |      Triangular distribution.\n",
      "     |      \n",
      "     |      Continuous distribution bounded by given lower and upper limits,\n",
      "     |      and having a given mode value in-between.\n",
      "     |      \n",
      "     |      http://en.wikipedia.org/wiki/Triangular_distribution\n",
      "     |  \n",
      "     |  uniform(self, a, b)\n",
      "     |      Get a random number in the range [a, b) or [a, b] depending on rounding.\n",
      "     |  \n",
      "     |  vonmisesvariate(self, mu, kappa)\n",
      "     |      Circular data distribution.\n",
      "     |      \n",
      "     |      mu is the mean angle, expressed in radians between 0 and 2*pi, and\n",
      "     |      kappa is the concentration parameter, which must be greater than or\n",
      "     |      equal to zero.  If kappa is equal to zero, this distribution reduces\n",
      "     |      to a uniform random angle over the range 0 to 2*pi.\n",
      "     |  \n",
      "     |  weibullvariate(self, alpha, beta)\n",
      "     |      Weibull distribution.\n",
      "     |      \n",
      "     |      alpha is the scale parameter and beta is the shape parameter.\n",
      "     |  \n",
      "     |  ----------------------------------------------------------------------\n",
      "     |  Class methods inherited from Random:\n",
      "     |  \n",
      "     |  __init_subclass__(**kwargs) from builtins.type\n",
      "     |      Control how subclasses generate random integers.\n",
      "     |      \n",
      "     |      The algorithm a subclass can use depends on the random() and/or\n",
      "     |      getrandbits() implementation available to it and determines\n",
      "     |      whether it can generate random integers from arbitrarily large\n",
      "     |      ranges.\n",
      "     |  \n",
      "     |  ----------------------------------------------------------------------\n",
      "     |  Data descriptors inherited from Random:\n",
      "     |  \n",
      "     |  __dict__\n",
      "     |      dictionary for instance variables (if defined)\n",
      "     |  \n",
      "     |  __weakref__\n",
      "     |      list of weak references to the object (if defined)\n",
      "     |  \n",
      "     |  ----------------------------------------------------------------------\n",
      "     |  Data and other attributes inherited from Random:\n",
      "     |  \n",
      "     |  VERSION = 3\n",
      "     |  \n",
      "     |  ----------------------------------------------------------------------\n",
      "     |  Static methods inherited from _random.Random:\n",
      "     |  \n",
      "     |  __new__(*args, **kwargs) from builtins.type\n",
      "     |      Create and return a new object.  See help(type) for accurate signature.\n",
      "\n",
      "FUNCTIONS\n",
      "    betavariate(alpha, beta) method of Random instance\n",
      "        Beta distribution.\n",
      "        \n",
      "        Conditions on the parameters are alpha > 0 and beta > 0.\n",
      "        Returned values range between 0 and 1.\n",
      "    \n",
      "    choice(seq) method of Random instance\n",
      "        Choose a random element from a non-empty sequence.\n",
      "    \n",
      "    choices(population, weights=None, *, cum_weights=None, k=1) method of Random instance\n",
      "        Return a k sized list of population elements chosen with replacement.\n",
      "        \n",
      "        If the relative weights or cumulative weights are not specified,\n",
      "        the selections are made with equal probability.\n",
      "    \n",
      "    expovariate(lambd) method of Random instance\n",
      "        Exponential distribution.\n",
      "        \n",
      "        lambd is 1.0 divided by the desired mean.  It should be\n",
      "        nonzero.  (The parameter would be called \"lambda\", but that is\n",
      "        a reserved word in Python.)  Returned values range from 0 to\n",
      "        positive infinity if lambd is positive, and from negative\n",
      "        infinity to 0 if lambd is negative.\n",
      "    \n",
      "    gammavariate(alpha, beta) method of Random instance\n",
      "        Gamma distribution.  Not the gamma function!\n",
      "        \n",
      "        Conditions on the parameters are alpha > 0 and beta > 0.\n",
      "        \n",
      "        The probability distribution function is:\n",
      "        \n",
      "                    x ** (alpha - 1) * math.exp(-x / beta)\n",
      "          pdf(x) =  --------------------------------------\n",
      "                      math.gamma(alpha) * beta ** alpha\n",
      "    \n",
      "    gauss(mu, sigma) method of Random instance\n",
      "        Gaussian distribution.\n",
      "        \n",
      "        mu is the mean, and sigma is the standard deviation.  This is\n",
      "        slightly faster than the normalvariate() function.\n",
      "        \n",
      "        Not thread-safe without a lock around calls.\n",
      "    \n",
      "    getrandbits(k, /) method of Random instance\n",
      "        getrandbits(k) -> x.  Generates an int with k random bits.\n",
      "    \n",
      "    getstate() method of Random instance\n",
      "        Return internal state; can be passed to setstate() later.\n",
      "    \n",
      "    lognormvariate(mu, sigma) method of Random instance\n",
      "        Log normal distribution.\n",
      "        \n",
      "        If you take the natural logarithm of this distribution, you'll get a\n",
      "        normal distribution with mean mu and standard deviation sigma.\n",
      "        mu can have any value, and sigma must be greater than zero.\n",
      "    \n",
      "    normalvariate(mu, sigma) method of Random instance\n",
      "        Normal distribution.\n",
      "        \n",
      "        mu is the mean, and sigma is the standard deviation.\n",
      "    \n",
      "    paretovariate(alpha) method of Random instance\n",
      "        Pareto distribution.  alpha is the shape parameter.\n",
      "    \n",
      "    randbytes(n) method of Random instance\n",
      "        Generate n random bytes.\n",
      "    \n",
      "    randint(a, b) method of Random instance\n",
      "        Return random integer in range [a, b], including both end points.\n",
      "    \n",
      "    random() method of Random instance\n",
      "        random() -> x in the interval [0, 1).\n",
      "    \n",
      "    randrange(start, stop=None, step=1) method of Random instance\n",
      "        Choose a random item from range(start, stop[, step]).\n",
      "        \n",
      "        This fixes the problem with randint() which includes the\n",
      "        endpoint; in Python this is usually not what you want.\n",
      "    \n",
      "    sample(population, k, *, counts=None) method of Random instance\n",
      "        Chooses k unique random elements from a population sequence or set.\n",
      "        \n",
      "        Returns a new list containing elements from the population while\n",
      "        leaving the original population unchanged.  The resulting list is\n",
      "        in selection order so that all sub-slices will also be valid random\n",
      "        samples.  This allows raffle winners (the sample) to be partitioned\n",
      "        into grand prize and second place winners (the subslices).\n",
      "        \n",
      "        Members of the population need not be hashable or unique.  If the\n",
      "        population contains repeats, then each occurrence is a possible\n",
      "        selection in the sample.\n",
      "        \n",
      "        Repeated elements can be specified one at a time or with the optional\n",
      "        counts parameter.  For example:\n",
      "        \n",
      "            sample(['red', 'blue'], counts=[4, 2], k=5)\n",
      "        \n",
      "        is equivalent to:\n",
      "        \n",
      "            sample(['red', 'red', 'red', 'red', 'blue', 'blue'], k=5)\n",
      "        \n",
      "        To choose a sample from a range of integers, use range() for the\n",
      "        population argument.  This is especially fast and space efficient\n",
      "        for sampling from a large population:\n",
      "        \n",
      "            sample(range(10000000), 60)\n",
      "    \n",
      "    seed(a=None, version=2) method of Random instance\n",
      "        Initialize internal state from a seed.\n",
      "        \n",
      "        The only supported seed types are None, int, float,\n",
      "        str, bytes, and bytearray.\n",
      "        \n",
      "        None or no argument seeds from current time or from an operating\n",
      "        system specific randomness source if available.\n",
      "        \n",
      "        If *a* is an int, all bits are used.\n",
      "        \n",
      "        For version 2 (the default), all of the bits are used if *a* is a str,\n",
      "        bytes, or bytearray.  For version 1 (provided for reproducing random\n",
      "        sequences from older versions of Python), the algorithm for str and\n",
      "        bytes generates a narrower range of seeds.\n",
      "    \n",
      "    setstate(state) method of Random instance\n",
      "        Restore internal state from object returned by getstate().\n",
      "    \n",
      "    shuffle(x, random=None) method of Random instance\n",
      "        Shuffle list x in place, and return None.\n",
      "        \n",
      "        Optional argument random is a 0-argument function returning a\n",
      "        random float in [0.0, 1.0); if it is the default None, the\n",
      "        standard random.random will be used.\n",
      "    \n",
      "    triangular(low=0.0, high=1.0, mode=None) method of Random instance\n",
      "        Triangular distribution.\n",
      "        \n",
      "        Continuous distribution bounded by given lower and upper limits,\n",
      "        and having a given mode value in-between.\n",
      "        \n",
      "        http://en.wikipedia.org/wiki/Triangular_distribution\n",
      "    \n",
      "    uniform(a, b) method of Random instance\n",
      "        Get a random number in the range [a, b) or [a, b] depending on rounding.\n",
      "    \n",
      "    vonmisesvariate(mu, kappa) method of Random instance\n",
      "        Circular data distribution.\n",
      "        \n",
      "        mu is the mean angle, expressed in radians between 0 and 2*pi, and\n",
      "        kappa is the concentration parameter, which must be greater than or\n",
      "        equal to zero.  If kappa is equal to zero, this distribution reduces\n",
      "        to a uniform random angle over the range 0 to 2*pi.\n",
      "    \n",
      "    weibullvariate(alpha, beta) method of Random instance\n",
      "        Weibull distribution.\n",
      "        \n",
      "        alpha is the scale parameter and beta is the shape parameter.\n",
      "\n",
      "DATA\n",
      "    __all__ = ['Random', 'SystemRandom', 'betavariate', 'choice', 'choices...\n",
      "\n",
      "FILE\n",
      "    c:\\program files\\windowsapps\\pythonsoftwarefoundation.python.3.10_3.10.2032.0_x64__qbz5n2kfra8p0\\lib\\random.py\n",
      "\n",
      "\n"
     ]
    }
   ],
   "source": [
    "import random\n",
    "\n",
    "#questa è libreria per lavorare con i numeri random\n",
    "help(random)"
   ]
  },
  {
   "cell_type": "code",
   "execution_count": 2,
   "id": "8d2ffbb5",
   "metadata": {},
   "outputs": [
    {
     "data": {
      "text/plain": [
       "0.24671041111676395"
      ]
     },
     "execution_count": 2,
     "metadata": {},
     "output_type": "execute_result"
    }
   ],
   "source": [
    "# per usare una funzione della libreria: nome_lib.nome_func()\n",
    "\n",
    "# float pseudorandomico\n",
    "random.random()"
   ]
  },
  {
   "cell_type": "code",
   "execution_count": 3,
   "id": "0d274bca",
   "metadata": {},
   "outputs": [
    {
     "data": {
      "text/plain": [
       "9"
      ]
     },
     "execution_count": 3,
     "metadata": {},
     "output_type": "execute_result"
    }
   ],
   "source": [
    "# intero pseudorandomico da un range\n",
    "random.randint(0,10)"
   ]
  },
  {
   "cell_type": "code",
   "execution_count": 4,
   "id": "e1f2b2b6",
   "metadata": {},
   "outputs": [
    {
     "data": {
      "text/plain": [
       "11"
      ]
     },
     "execution_count": 4,
     "metadata": {},
     "output_type": "execute_result"
    }
   ],
   "source": [
    "# random da un range\n",
    "random.randrange(4,32,7)"
   ]
  },
  {
   "cell_type": "code",
   "execution_count": 5,
   "id": "f94532bc",
   "metadata": {},
   "outputs": [
    {
     "data": {
      "text/plain": [
       "1.476592227243021"
      ]
     },
     "execution_count": 5,
     "metadata": {},
     "output_type": "execute_result"
    }
   ],
   "source": [
    "# random da distribuzuine gaussiana\n",
    "random.gauss(1,0.5)"
   ]
  },
  {
   "cell_type": "code",
   "execution_count": 6,
   "id": "f6a7a45c",
   "metadata": {},
   "outputs": [
    {
     "data": {
      "text/plain": [
       "0.8757345822505875"
      ]
     },
     "execution_count": 6,
     "metadata": {},
     "output_type": "execute_result"
    }
   ],
   "source": [
    "# random da distribuzuine normale\n",
    "random.normalvariate(1,0.5)"
   ]
  },
  {
   "cell_type": "markdown",
   "id": "91237450",
   "metadata": {},
   "source": [
    "##### Con list comprehension\n",
    "\n",
    "Molto spesso, quando uso le list comprehension, il parametro che viene modificato dal *ciclo for* viene usato nella funzione che sto chiamando.\n",
    "- [*func(**i**)* for **i** in range(n)]\n",
    "\n",
    "Posso utilizzare la list comprehension anche per funzioni che **non** richiedono un parametro che dipenda dal ciclo for. In questo caso, uso il for semplicemente per richiamare la funzione più volte.\\\n",
    "Per convenzione, siccome in questo caso la variabile serve solo per ripetere la funzione, invece di darle un nome come si farebbe di solito (ad esempio \"i\" oppure \"it\"), la si chiama semplicemente **\"_\"**.\n",
    "\n",
    "- [*func(parametro1, ...)* for **_** in range(n)]"
   ]
  },
  {
   "cell_type": "code",
   "execution_count": 7,
   "id": "87ccdefc",
   "metadata": {},
   "outputs": [
    {
     "data": {
      "text/plain": [
       "[0.9042852787730555,\n",
       " 1.1407354297936985,\n",
       " 0.5782760288712168,\n",
       " 0.007377451663241552,\n",
       " 0.2066425009941486,\n",
       " -0.3714824873068019,\n",
       " 1.1931268559814885,\n",
       " 1.1322034763143314,\n",
       " 2.5255513897643733,\n",
       " -0.09452819997550632]"
      ]
     },
     "execution_count": 7,
     "metadata": {},
     "output_type": "execute_result"
    }
   ],
   "source": [
    "# posso usare le list comprehension\n",
    "\n",
    "# con _ in range() dico quante volte voglio chiamare la funzione\n",
    "numeri_rnd = [random.normalvariate(1,1) for _ in range(10)]\n",
    "numeri_rnd"
   ]
  },
  {
   "cell_type": "code",
   "execution_count": 8,
   "id": "fb322916",
   "metadata": {},
   "outputs": [
    {
     "data": {
      "text/plain": [
       "2.5255513897643733"
      ]
     },
     "execution_count": 8,
     "metadata": {},
     "output_type": "execute_result"
    }
   ],
   "source": [
    "# scelta casuale di un element in una lista\n",
    "random.choice(numeri_rnd)"
   ]
  },
  {
   "cell_type": "markdown",
   "id": "7227e6dd",
   "metadata": {},
   "source": [
    "## if-else statements\n",
    "\n",
    "Immaginiamo di aver scelto un numero random, *num*, da un range e di voler controllarne il valore per vedere se è un numero sotto una soglia da noi scelta, *th*."
   ]
  },
  {
   "cell_type": "code",
   "execution_count": 9,
   "id": "7c31a86e",
   "metadata": {},
   "outputs": [],
   "source": [
    "num = random.randrange(3, 8)\n",
    "th = 5"
   ]
  },
  {
   "cell_type": "code",
   "execution_count": 10,
   "id": "7802746c",
   "metadata": {},
   "outputs": [],
   "source": [
    "if num < 5:\n",
    "    print('numero basso con valore:',num)"
   ]
  },
  {
   "cell_type": "markdown",
   "id": "4ea71cdf",
   "metadata": {},
   "source": [
    "Immaginiamo ora di avere più soglie. In questo caso un solo *if* non è sufficiente perchè abbiamo più casi possibili."
   ]
  },
  {
   "cell_type": "code",
   "execution_count": 11,
   "id": "286f2517",
   "metadata": {},
   "outputs": [
    {
     "data": {
      "text/plain": [
       "1"
      ]
     },
     "execution_count": 11,
     "metadata": {},
     "output_type": "execute_result"
    }
   ],
   "source": [
    "num = random.randrange(1, 8)\n",
    "num"
   ]
  },
  {
   "cell_type": "code",
   "execution_count": 12,
   "id": "c08c750d",
   "metadata": {},
   "outputs": [
    {
     "name": "stdout",
     "output_type": "stream",
     "text": [
      "numero basso\n"
     ]
    }
   ],
   "source": [
    "if num < 3:     # if = \"se\"\n",
    "    print('numero basso')\n",
    "    \n",
    "elif num > 6:    # elif = \"altrimenti se\"\n",
    "    print('numero alto')\n",
    "    \n",
    "else:    # else = \"altrimenti\"\n",
    "    print('numero medio')"
   ]
  },
  {
   "cell_type": "markdown",
   "id": "6e1f817a",
   "metadata": {},
   "source": [
    "In Python, posso usare un **if-else** statement, usando anche l'opzione **elif** per dare alternative che dipendono da diverse condizioni. Poichè in Python non si usano parentesi, i blocchi dello statement sono delimitati dall'indentazione: \\\n",
    "in pratica, dove in altri linguaggi userei delle parentesi, in Python uso il *tab*. Più livelli avrò, più il testo sarà indentato.\\\n",
    "In ogni blocco posso avere più operazioni (cosa non possibile invece nelle list comprehension!)."
   ]
  },
  {
   "cell_type": "markdown",
   "id": "b6247a3c",
   "metadata": {},
   "source": [
    "**if** (condizioni) **:** \\\n",
    "    $\\;\\;\\;\\;\\;\\;$*blocco di operazioni* \n",
    "    \n",
    "**elif** (condizioni) **:** \\\n",
    "    $\\;\\;\\;\\;\\;\\;$*blocco di operazioni* \n",
    "    \n",
    "**elif** (condizioni) **:** \\\n",
    "    $\\;\\;\\;\\;\\;\\;$*blocco di operazioni* \n",
    "    \n",
    "$\\cdots$ \n",
    "\n",
    "**else**: \\\n",
    "    $\\;\\;\\;\\;\\;\\;$*blocco di operazioni da fare se\\\n",
    "    $\\;\\;\\;\\;\\;\\;$nessuna delle condizioni precedenti viene soddisfatta*"
   ]
  },
  {
   "cell_type": "markdown",
   "id": "c46af7c8",
   "metadata": {},
   "source": [
    "#### Operatori di comparazione\n",
    "\n",
    "Gli operatori di comparazione servono per comparare due valori. Ritornano *True* se la condizione di comporazione viene soddisfatta, altrimenti ritornano *False*."
   ]
  },
  {
   "cell_type": "code",
   "execution_count": 13,
   "id": "2baa264c",
   "metadata": {},
   "outputs": [
    {
     "name": "stdout",
     "output_type": "stream",
     "text": [
      "Esempi di operatori di comparazione.\n"
     ]
    }
   ],
   "source": [
    "10 < 2 # False\n",
    "10 <= 2 # False\n",
    "2 > 1 # True\n",
    "2 >= 3 # False\n",
    "1 == 1 # True\n",
    "1 != 2 # True\n",
    "\n",
    "print('Esempi di operatori di comparazione.')"
   ]
  },
  {
   "cell_type": "markdown",
   "id": "2321bfad",
   "metadata": {},
   "source": [
    "## I CICLI\n",
    "### 1. FOR-LOOP\n",
    "\n",
    "Con il *for-loop* ripetiamo un blocco di operazioni un certo numero di volte, potendo anche usare un elemento di una collezione (ad esempio una stringa, range, lista, ecc$\\dots$) alla volta."
   ]
  },
  {
   "cell_type": "markdown",
   "id": "b0171d33",
   "metadata": {},
   "source": [
    "**for** (oggetto su cui iterare) **:** \\\n",
    "    $\\;\\;\\;\\;\\;\\;$*blocco di operazioni* "
   ]
  },
  {
   "cell_type": "code",
   "execution_count": 14,
   "id": "48983b6c",
   "metadata": {},
   "outputs": [
    {
     "name": "stdout",
     "output_type": "stream",
     "text": [
      "c\n",
      "i\n",
      "a\n",
      "o\n"
     ]
    }
   ],
   "source": [
    "# un elemento di una stringa alla volta\n",
    "for lettera in 'ciao':\n",
    "    print(lettera)"
   ]
  },
  {
   "cell_type": "code",
   "execution_count": 15,
   "id": "6de1bc99",
   "metadata": {},
   "outputs": [
    {
     "name": "stdout",
     "output_type": "stream",
     "text": [
      "3\n",
      "8\n",
      "13\n",
      "18\n"
     ]
    }
   ],
   "source": [
    "# un elemento di un range alla volta\n",
    "for numero in range(3, 20, 5):\n",
    "    print(numero)"
   ]
  },
  {
   "cell_type": "code",
   "execution_count": 16,
   "id": "8b66337f",
   "metadata": {},
   "outputs": [
    {
     "name": "stdout",
     "output_type": "stream",
     "text": [
      "2\n",
      "4\n",
      "7\n",
      "3\n",
      "1\n"
     ]
    }
   ],
   "source": [
    "# un elemento di una lista alla volta\n",
    "lista = [2, 4, 7, 3, 1]\n",
    "\n",
    "for elemento in lista:\n",
    "    print(elemento)"
   ]
  },
  {
   "cell_type": "code",
   "execution_count": 17,
   "id": "7174ddc1",
   "metadata": {},
   "outputs": [
    {
     "name": "stdout",
     "output_type": "stream",
     "text": [
      "ciao\n",
      "ciao\n",
      "ciao\n",
      "ciao\n",
      "ciao\n"
     ]
    }
   ],
   "source": [
    "# ripetizione di una funzione n volte\n",
    "n = 5\n",
    "\n",
    "for _ in range(n):\n",
    "    print('ciao')"
   ]
  },
  {
   "cell_type": "code",
   "execution_count": 18,
   "id": "172499ba",
   "metadata": {},
   "outputs": [
    {
     "name": "stdout",
     "output_type": "stream",
     "text": [
      "0 è pari\n",
      "1 è dispari\n",
      "2 è pari\n",
      "3 è dispari\n",
      "4 è pari\n"
     ]
    }
   ],
   "source": [
    "# ripetizione di una funzione n volte con if-else statement\n",
    "\n",
    "n = 5\n",
    "\n",
    "# un elemento di un range alla volta\n",
    "for numero in range(n):\n",
    "    \n",
    "    # if-else satement\n",
    "    if numero %2 == 0:\n",
    "        print(numero, 'è pari')\n",
    "    else:\n",
    "        print(numero, 'è dispari')"
   ]
  },
  {
   "cell_type": "code",
   "execution_count": 19,
   "id": "7ad0a580",
   "metadata": {},
   "outputs": [
    {
     "name": "stdout",
     "output_type": "stream",
     "text": [
      "2\n",
      "-6\n",
      "-4\n",
      "5\n"
     ]
    }
   ],
   "source": [
    "# un elemento di un set alla volta\n",
    "# ATTENZIONE: un set è un insieme NON ordinato!\n",
    "\n",
    "insieme = {5, 2, -4, -6}\n",
    "\n",
    "for elemento in insieme:\n",
    "    print(elemento)"
   ]
  },
  {
   "cell_type": "markdown",
   "id": "018ee9af",
   "metadata": {},
   "source": [
    "Le iterazioni su un dizionario possono essere:\n",
    "- sulle chiavi\n",
    "- sui valori\n",
    "- sulle coppie chiave-valore"
   ]
  },
  {
   "cell_type": "code",
   "execution_count": 20,
   "id": "6f4e1326",
   "metadata": {},
   "outputs": [],
   "source": [
    "d = {\n",
    "    'Roma': 'IT',\n",
    "    'Barcelona': 'ES',\n",
    "    'Dublin': 'IE'\n",
    "}"
   ]
  },
  {
   "cell_type": "markdown",
   "id": "6314ba87",
   "metadata": {},
   "source": [
    "##### Unpacking\n",
    "con d.items() prendo tuple che hanno questa forma: (chiave, valore) \\\n",
    "allora posso scorporare (\"unpacking\") ogni coppia in due variabili \\\n",
    "chiave: k = coppia[0], valore: v = coppia[1]"
   ]
  },
  {
   "cell_type": "code",
   "execution_count": 21,
   "id": "91248db1",
   "metadata": {},
   "outputs": [
    {
     "name": "stdout",
     "output_type": "stream",
     "text": [
      "chiave: Roma --> valore: IT\n",
      "chiave: Barcelona --> valore: ES\n",
      "chiave: Dublin --> valore: IE\n"
     ]
    }
   ],
   "source": [
    "# una coppia chiave-valore alla volta\n",
    "\n",
    "for k, v in d.items():\n",
    "    print(f'chiave: {k} --> valore: {v}')"
   ]
  },
  {
   "cell_type": "code",
   "execution_count": 22,
   "id": "a9fe07ff",
   "metadata": {},
   "outputs": [
    {
     "name": "stdout",
     "output_type": "stream",
     "text": [
      "chiave: Roma\n",
      "chiave: Barcelona\n",
      "chiave: Dublin\n"
     ]
    }
   ],
   "source": [
    "# una chiave alla volta\n",
    "for key in d.keys():\n",
    "    print(f'chiave: {key}')"
   ]
  },
  {
   "cell_type": "code",
   "execution_count": 23,
   "id": "3f7c5c59",
   "metadata": {},
   "outputs": [
    {
     "name": "stdout",
     "output_type": "stream",
     "text": [
      "valore: IT\n",
      "valore: ES\n",
      "valore: IE\n"
     ]
    }
   ],
   "source": [
    "# un valore alla volta\n",
    "for value in d.values():\n",
    "    print(f'valore: {value}')"
   ]
  },
  {
   "cell_type": "markdown",
   "id": "9c14df87",
   "metadata": {},
   "source": [
    "### Esercizio: la limitazione di iterare su elementi e non indici\n",
    "\n",
    "Stampare tutti gli elementi di una lista tranne quello con indice uguale a 2."
   ]
  },
  {
   "cell_type": "code",
   "execution_count": 24,
   "id": "f761c96a",
   "metadata": {},
   "outputs": [
    {
     "name": "stdout",
     "output_type": "stream",
     "text": [
      "libro\n",
      "matita\n",
      "gomma\n"
     ]
    }
   ],
   "source": [
    "l = ['libro', 'matita', 'penna', 'gomma']\n",
    "for el in l:\n",
    "    if el != l[2]:\n",
    "        print(el)"
   ]
  },
  {
   "cell_type": "markdown",
   "id": "ab32bf4f",
   "metadata": {},
   "source": [
    "Se non vogliamo stampare l'elemento successivo a quello uguale a 'penna'?"
   ]
  },
  {
   "cell_type": "code",
   "execution_count": 25,
   "id": "53cefa64",
   "metadata": {},
   "outputs": [
    {
     "name": "stdout",
     "output_type": "stream",
     "text": [
      "Siamo all'indice: 0\n",
      "libro\n",
      "Siamo all'indice: 1\n",
      "matita\n",
      "Siamo all'indice: 2\n",
      "Penna trovata! Escludi prossimo indice, cioè: 3\n",
      "penna\n",
      "Siamo all'indice: 3\n"
     ]
    }
   ],
   "source": [
    "idx_esc = None\n",
    "\n",
    "# for-loop su un valore di indice alla volta\n",
    "for i in range(len(l)):\n",
    "    print(f\"Siamo all'indice:\", i)\n",
    "    if l[i] == 'penna': # check su elemento all'i-esimo indice\n",
    "        idx_esc = i+1\n",
    "        print('Penna trovata! Escludi prossimo indice, cioè:', idx_esc)\n",
    "    \n",
    "    if i == idx_esc:\n",
    "        pass\n",
    "    else:\n",
    "        print(l[i])"
   ]
  },
  {
   "cell_type": "markdown",
   "id": "d6753671",
   "metadata": {},
   "source": [
    "## Plotting"
   ]
  },
  {
   "cell_type": "markdown",
   "id": "29d033f3",
   "metadata": {},
   "source": [
    "#### Matplotlib.pyplot\n",
    "Questa libreria serve per generare plot partendo da dati salvati in liste e/o tuple."
   ]
  },
  {
   "cell_type": "code",
   "execution_count": 26,
   "id": "2f3cb66b",
   "metadata": {},
   "outputs": [],
   "source": [
    "from matplotlib import pyplot as plt"
   ]
  },
  {
   "cell_type": "code",
   "execution_count": 27,
   "id": "b690a852",
   "metadata": {},
   "outputs": [
    {
     "data": {
      "text/plain": [
       "[0.7204275325774918,\n",
       " -1.2646075698874344,\n",
       " 1.6604455564794516,\n",
       " 0.5154409991604525,\n",
       " 0.35543670467884014,\n",
       " 0.8641830325292206,\n",
       " 1.4204643956216803,\n",
       " 1.8735965371685686,\n",
       " 3.1949986739664165,\n",
       " -1.1346455463667695]"
      ]
     },
     "execution_count": 27,
     "metadata": {},
     "output_type": "execute_result"
    }
   ],
   "source": [
    "g=[random.gauss(1,1) for _ in range(10)]\n",
    "g"
   ]
  },
  {
   "cell_type": "code",
   "execution_count": 28,
   "id": "ecf466cd",
   "metadata": {},
   "outputs": [
    {
     "data": {
      "image/png": "[encoded data removed]",
      "text/plain": [
       "<Figure size 640x480 with 1 Axes>"
      ]
     },
     "metadata": {},
     "output_type": "display_data"
    }
   ],
   "source": [
    "plt.hist([random.gauss(1,0.8) for _ in range(1000)], bins=40)\n",
    "plt.show()"
   ]
  },
  {
   "cell_type": "markdown",
   "id": "a3ea64fb",
   "metadata": {},
   "source": [
    "### Esercizio:"
   ]
  },
  {
   "cell_type": "markdown",
   "id": "936bf0aa",
   "metadata": {},
   "source": [
    "1. Dato un intero maggiore di 2, restituire una lista contenente i soli numeri pari di una serie di Fibonacci che ha l'ultimo elemento minore o uguale a n"
   ]
  },
  {
   "cell_type": "code",
   "execution_count": 29,
   "id": "bbc22fae",
   "metadata": {},
   "outputs": [],
   "source": [
    "def esercizio(n):\n",
    "    fibo=[0,1]\n",
    "    i=2\n",
    "    \n",
    "    while fibo[-1] < n:\n",
    "        fibo.append(fibo[i-1]+fibo[i-2])\n",
    "        i+=1\n",
    "        \n",
    "    lista=[el for el in fibo if el % 2 ==0 ]\n",
    "\n",
    "    return lista\n"
   ]
  },
  {
   "cell_type": "code",
   "execution_count": 30,
   "id": "a6af753b",
   "metadata": {},
   "outputs": [
    {
     "name": "stdout",
     "output_type": "stream",
     "text": [
      "[0, 2]\n"
     ]
    }
   ],
   "source": [
    "print(esercizio(5))"
   ]
  },
  {
   "cell_type": "markdown",
   "id": "ce89e0d2",
   "metadata": {},
   "source": [
    "### Interruzione e salto nei cicli \n",
    "\n",
    "**break**: interrompe il ciclo immediatamente\\\n",
    "**continue**: passa immediatamente alla prossima iterazione del ciclo\\\n",
    "**pass**: passa al blocco successivo di istruzioni nell'iterazione corrente"
   ]
  },
  {
   "cell_type": "code",
   "execution_count": 31,
   "id": "70b7c586",
   "metadata": {},
   "outputs": [
    {
     "data": {
      "text/plain": [
       "[0, 2, 4, 6, 8, 10, 12, 14, 16, 18, 20, 22, 24]"
      ]
     },
     "execution_count": 31,
     "metadata": {},
     "output_type": "execute_result"
    }
   ],
   "source": [
    "# senza interruzioni\n",
    "\n",
    "n = 0\n",
    "res = []\n",
    "\n",
    "while n < 25:\n",
    "    if n%2 == 0:\n",
    "        res.append(n)\n",
    "    n+=1\n",
    "res"
   ]
  },
  {
   "cell_type": "code",
   "execution_count": 32,
   "id": "a5f7dedf",
   "metadata": {},
   "outputs": [
    {
     "data": {
      "text/plain": [
       "[0, 2, 4, 6, 8, 10, 12, 14, 16, 18, 20, 22, 24]"
      ]
     },
     "execution_count": 32,
     "metadata": {},
     "output_type": "execute_result"
    }
   ],
   "source": [
    "# con \"continue\"\n",
    "\n",
    "n = 0\n",
    "res = []\n",
    "\n",
    "while n < 25:\n",
    "    \n",
    "    if n%2 == 1:\n",
    "        n+=1\n",
    "        # passa alla prossima iterazione del while\n",
    "        continue\n",
    "    \n",
    "    res.append(n)\n",
    "    n+=1\n",
    "res"
   ]
  },
  {
   "cell_type": "code",
   "execution_count": 33,
   "id": "44c46aae",
   "metadata": {},
   "outputs": [
    {
     "data": {
      "text/plain": [
       "([0, 2, 4, 6, 8, 10, 12, 14, 16, 18, 20, 22, 24], 12)"
      ]
     },
     "execution_count": 33,
     "metadata": {},
     "output_type": "execute_result"
    }
   ],
   "source": [
    "# con \"pass\"\n",
    "\n",
    "n = 0\n",
    "res = []\n",
    "\n",
    "# count per vedere quante volte vado su pass\n",
    "cnt_pass = 0 \n",
    "\n",
    "while n < 25:\n",
    "    \n",
    "    if n%2 == 1:\n",
    "        cnt_pass += 1\n",
    "        # vai avanti con le istruzioni in questa iterazione\n",
    "        pass\n",
    "    \n",
    "    else:\n",
    "        res.append(n)\n",
    "        \n",
    "    n+=1\n",
    "    \n",
    "res, cnt_pass"
   ]
  },
  {
   "cell_type": "markdown",
   "id": "808d05f5",
   "metadata": {},
   "source": [
    "# Le funzioni\n",
    "\n",
    "Le funzioni sono una serie di istruzioni che possono essere riutilizzate.\\\n",
    "Possono avere parametri in input e possono ritornare valori in output.\n",
    "\n",
    "**def** nome_funzione(parametri_input) **:** \\\n",
    "    $\\;\\;\\;\\;\\;\\;$*operazioni* \\\n",
    "    $\\;\\;\\;\\;\\;\\;\\dots$\\\n",
    "    $\\;\\;\\;\\;\\;\\;$***return*** *risultato*"
   ]
  },
  {
   "cell_type": "code",
   "execution_count": 34,
   "id": "3073f2d3",
   "metadata": {},
   "outputs": [],
   "source": [
    "def quadrato(n):\n",
    "    return n**2\n",
    "\n",
    "def prima_doppia(s):\n",
    "    for i, v in enumerate(s):\n",
    "        try:\n",
    "            if v == s[i+1]:\n",
    "                return i, v\n",
    "        except:\n",
    "            print('no doppia')\n",
    "    return"
   ]
  },
  {
   "cell_type": "code",
   "execution_count": 35,
   "id": "f0cf884e",
   "metadata": {},
   "outputs": [
    {
     "data": {
      "text/plain": [
       "(2, 't')"
      ]
     },
     "execution_count": 35,
     "metadata": {},
     "output_type": "execute_result"
    }
   ],
   "source": [
    "prima_doppia('tutto')"
   ]
  },
  {
   "cell_type": "code",
   "execution_count": 36,
   "id": "279d6572",
   "metadata": {},
   "outputs": [
    {
     "name": "stdout",
     "output_type": "stream",
     "text": [
      "no doppia\n"
     ]
    }
   ],
   "source": [
    "prima_doppia('ciao')"
   ]
  },
  {
   "cell_type": "markdown",
   "id": "e1b18cb6",
   "metadata": {},
   "source": [
    "2. Scrivere una funzione che data una stringa s restituisca una lista contenente tutti gli indici e valori delle doppie in essa. Se la stringa non contiene doppie restituire una lista vuota."
   ]
  },
  {
   "cell_type": "code",
   "execution_count": 37,
   "id": "10307861",
   "metadata": {},
   "outputs": [],
   "source": [
    "def trova_doppie(stringa):\n",
    "    doppie = []\n",
    "    \n",
    "    # ciclo su tutte le lettere\n",
    "    for i,v in enumerate(stringa):\n",
    "        try:\n",
    "            #controllo lettera successiva\n",
    "            if v == stringa[i+1]:\n",
    "                # appendo doppia e indice\n",
    "                doppie.append((v, i))\n",
    "        except:\n",
    "            print('analisi su stringa conclusa')\n",
    "            \n",
    "    return doppie"
   ]
  },
  {
   "cell_type": "code",
   "execution_count": 38,
   "id": "0e91c99b",
   "metadata": {},
   "outputs": [
    {
     "name": "stdout",
     "output_type": "stream",
     "text": [
      "analisi su stringa conclusa\n"
     ]
    },
    {
     "data": {
      "text/plain": [
       "[('p', 2), ('c', 5), ('t', 8)]"
      ]
     },
     "execution_count": 38,
     "metadata": {},
     "output_type": "execute_result"
    }
   ],
   "source": [
    "st = 'cappuccetto'\n",
    "doppie_trovate = trova_doppie(st)\n",
    "doppie_trovate"
   ]
  },
  {
   "cell_type": "markdown",
   "id": "3d3fffc0",
   "metadata": {},
   "source": [
    "3. Scrivere una funzione _isprimo(n)_ che restituisca True o False dipendentemente dal fatto che n sia primo o meno.\n",
    "\n",
    "    Scrivere poi _twinprime(n1,n2)_ che restituisca True o False in base al fatto che i due numeri siano primi gemelli.\n"
   ]
  },
  {
   "cell_type": "code",
   "execution_count": 39,
   "id": "412744a2",
   "metadata": {},
   "outputs": [],
   "source": [
    "def is_primo(n):\n",
    "    i=2\n",
    "    if n == 1 or n==2:\n",
    "        return True\n",
    "    while i < n :\n",
    "        if n % i == 0:\n",
    "            return False\n",
    "            i+=1\n",
    "        else:\n",
    "            return True"
   ]
  },
  {
   "cell_type": "code",
   "execution_count": 40,
   "id": "d40ffdff",
   "metadata": {},
   "outputs": [],
   "source": [
    "def is_primo2(n):\n",
    "    return [x for x in range(2,n) if n%x==0] == []"
   ]
  },
  {
   "cell_type": "code",
   "execution_count": 41,
   "id": "797f33dd",
   "metadata": {},
   "outputs": [
    {
     "data": {
      "text/plain": [
       "True"
      ]
     },
     "execution_count": 41,
     "metadata": {},
     "output_type": "execute_result"
    }
   ],
   "source": [
    "is_primo(15)"
   ]
  },
  {
   "cell_type": "code",
   "execution_count": 42,
   "id": "df19b4fc",
   "metadata": {},
   "outputs": [],
   "source": [
    "def twin_prime(n,m):\n",
    "    if is_primo2(n) == False or is_primo2(m) == False:\n",
    "        return False\n",
    "    else:\n",
    "        if abs(n-m)==2:\n",
    "            return True\n",
    "        else:\n",
    "            return False"
   ]
  },
  {
   "cell_type": "code",
   "execution_count": 43,
   "id": "fb284bb2",
   "metadata": {},
   "outputs": [],
   "source": [
    "def twin_prime2(n,m):     #versione sintetica\n",
    "    return is_primo(n) and is_primo(m) and abs(n-m)==2"
   ]
  },
  {
   "cell_type": "code",
   "execution_count": 44,
   "id": "3052711c",
   "metadata": {},
   "outputs": [
    {
     "data": {
      "text/plain": [
       "False"
      ]
     },
     "execution_count": 44,
     "metadata": {},
     "output_type": "execute_result"
    }
   ],
   "source": [
    "twin_prime(13,5)"
   ]
  },
  {
   "cell_type": "markdown",
   "id": "9e4330cb",
   "metadata": {},
   "source": [
    "    \n",
    "4. Dato un intero n, restituire una lista di tuple che ne contengano la fattorizzazione "
   ]
  },
  {
   "cell_type": "code",
   "execution_count": 45,
   "id": "fb819d0c",
   "metadata": {},
   "outputs": [],
   "source": [
    "def genera_primi(n):\n",
    "    res=[]\n",
    "    for i in range(2,n):\n",
    "        if is_primo(i):\n",
    "            res.append(i)\n",
    "    return res"
   ]
  },
  {
   "cell_type": "code",
   "execution_count": 46,
   "id": "e29ea786",
   "metadata": {},
   "outputs": [],
   "source": [
    "def genera_primi2(n):\n",
    "    return [x for x in range(2,n) if is_primo(x)]"
   ]
  },
  {
   "cell_type": "code",
   "execution_count": 47,
   "id": "7df5f014",
   "metadata": {},
   "outputs": [],
   "source": [
    "def fattori(n):\n",
    "    fattori=genera_primi2(n)  \n",
    "    if is_primo2(n):\n",
    "        return (n,1)\n",
    "    res=[]  \n",
    "    resto=n\n",
    "    for f in fattori:  \n",
    "        temp=[f,0]\n",
    "        while resto%f==0:\n",
    "            resto=resto/f\n",
    "            temp=[f,temp[1]+1]\n",
    "        if temp[1]!=0:\n",
    "            res.append(temp)   \n",
    "    return res"
   ]
  },
  {
   "cell_type": "code",
   "execution_count": 48,
   "id": "dbcb55de",
   "metadata": {},
   "outputs": [
    {
     "data": {
      "text/plain": [
       "[[3, 1], [5, 1]]"
      ]
     },
     "execution_count": 48,
     "metadata": {},
     "output_type": "execute_result"
    }
   ],
   "source": [
    "fattori(15)"
   ]
  },
  {
   "cell_type": "code",
   "execution_count": 49,
   "id": "f2b4669d",
   "metadata": {},
   "outputs": [],
   "source": [
    "def primifinoa(n):\n",
    "    return [(i,is_primo2(i)) for i in range(2,n)]"
   ]
  },
  {
   "cell_type": "code",
   "execution_count": 50,
   "id": "49a57f51",
   "metadata": {},
   "outputs": [
    {
     "data": {
      "text/plain": [
       "[(2, True),\n",
       " (3, True),\n",
       " (4, False),\n",
       " (5, True),\n",
       " (6, False),\n",
       " (7, True),\n",
       " (8, False),\n",
       " (9, False)]"
      ]
     },
     "execution_count": 50,
     "metadata": {},
     "output_type": "execute_result"
    }
   ],
   "source": [
    "primifinoa(10)"
   ]
  },
  {
   "cell_type": "markdown",
   "id": "608e205a",
   "metadata": {},
   "source": [
    "5. stampare risultato *is_prime(n)* con list comprehension"
   ]
  },
  {
   "cell_type": "code",
   "execution_count": 51,
   "id": "5ef80aed",
   "metadata": {},
   "outputs": [],
   "source": [
    "def calc_primes(n):\n",
    "    return [(num, is_primo(num)) for num in range(2, n)]"
   ]
  },
  {
   "cell_type": "code",
   "execution_count": 52,
   "id": "6d3968ab",
   "metadata": {},
   "outputs": [
    {
     "name": "stdout",
     "output_type": "stream",
     "text": [
      "[(2, True), (3, True), (4, False), (5, True), (6, False), (7, True), (8, False), (9, True), (10, False), (11, True), (12, False), (13, True), (14, False), (15, True), (16, False), (17, True), (18, False), (19, True), (20, False), (21, True), (22, False), (23, True), (24, False)]\n"
     ]
    }
   ],
   "source": [
    "print(calc_primes(n))"
   ]
  },
  {
   "cell_type": "markdown",
   "id": "44ce82bf",
   "metadata": {},
   "source": [
    "## Extra"
   ]
  },
  {
   "cell_type": "markdown",
   "id": "2730214b",
   "metadata": {},
   "source": [
    "##### Tip: list comprehension su righe multiple\n",
    "\n",
    "Posso scrivere la list comprehension su più righe per leggibilità:\\\n",
    "[\\\n",
    "    $\\;\\;\\;\\;\\;\\;$*func(x)*\\\n",
    "    $\\;\\;\\;\\;\\;\\;$**for** ... \\\n",
    "    $\\;\\;\\;\\;\\;\\;$**if** ... **else**\\\n",
    "]"
   ]
  },
  {
   "cell_type": "code",
   "execution_count": 53,
   "id": "bf2f4000",
   "metadata": {},
   "outputs": [],
   "source": [
    "def scatter_prime(n):\n",
    "    \n",
    "    for x, el in enumerate(calc_primes(n)):\n",
    "        if el[1]:\n",
    "            plt.scatter(el[0], 1, color='r')\n",
    "        else:\n",
    "            plt.scatter(el[0], 1, color='b')\n",
    "       \n",
    "    ticks = [int(n_i) for n_i in range(2,n)]  \n",
    "    plt.xticks(ticks)\n",
    "    plt.grid()\n",
    "    plt.show()"
   ]
  },
  {
   "cell_type": "code",
   "execution_count": 54,
   "id": "f2be241a",
   "metadata": {},
   "outputs": [
    {
     "data": {
      "image/png": "[encoded data removed]",
      "text/plain": [
       "<Figure size 640x480 with 1 Axes>"
      ]
     },
     "metadata": {},
     "output_type": "display_data"
    }
   ],
   "source": [
    "scatter_prime(15)"
   ]
  },
  {
   "cell_type": "code",
   "execution_count": null,
   "id": "78f7c895",
   "metadata": {},
   "outputs": [],
   "source": []
  }
 ],
 "metadata": {
  "kernelspec": {
   "display_name": "Python 3 (ipykernel)",
   "language": "python",
   "name": "python3"
  },
  "language_info": {
   "codemirror_mode": {
    "name": "ipython",
    "version": 3
   },
   "file_extension": ".py",
   "mimetype": "text/x-python",
   "name": "python",
   "nbconvert_exporter": "python",
   "pygments_lexer": "ipython3",
   "version": "3.10.7"
  }
 },
 "nbformat": 4,
 "nbformat_minor": 5
}
