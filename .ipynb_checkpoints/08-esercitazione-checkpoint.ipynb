{
 "cells": [
  {
   "cell_type": "markdown",
   "id": "de2d404e",
   "metadata": {},
   "source": [
    "# Le classi"
   ]
  },
  {
   "cell_type": "markdown",
   "id": "657987c1",
   "metadata": {},
   "source": [
    "Esse ci permettono di definire ed usare strutture di dati che contengono variabili e funzioni.\n",
    "\n",
    "(keyword) class (nome classe) Esempio (due punti):\n",
    "\n",
    "OSS: convenzionalmente i nomi delle classi hanno la prima lettera maiuscola"
   ]
  },
  {
   "cell_type": "code",
   "execution_count": 1,
   "id": "e75c6399",
   "metadata": {},
   "outputs": [],
   "source": [
    "class Persona:\n",
    "    pass"
   ]
  },
  {
   "cell_type": "markdown",
   "id": "fe437c75",
   "metadata": {},
   "source": [
    "### Istanziare una classe"
   ]
  },
  {
   "cell_type": "code",
   "execution_count": 2,
   "id": "b5c66d79",
   "metadata": {},
   "outputs": [
    {
     "data": {
      "text/plain": [
       "__main__.Persona"
      ]
     },
     "execution_count": 2,
     "metadata": {},
     "output_type": "execute_result"
    }
   ],
   "source": [
    "mario = Persona() #creo una nuova istanza\n",
    "type(mario) #costituiscono tipi"
   ]
  },
  {
   "cell_type": "markdown",
   "id": "5bff1e07",
   "metadata": {},
   "source": [
    "E' possibile assegnare degli attributi (variabili) ad una classe.\n",
    "\n",
    "Esse rappresentano \"oggetti\" della vita reale"
   ]
  },
  {
   "cell_type": "code",
   "execution_count": 3,
   "id": "5a738775",
   "metadata": {},
   "outputs": [],
   "source": [
    "class Persona:\n",
    "    \n",
    "    #metodo speciale che ne descrive gli attributi\n",
    "    def __init__(self, nome, cognome, email, anno_nascita=1900):  \n",
    "        # self['nome']=nome\n",
    "        self.nome=nome\n",
    "        self.cognome=cognome\n",
    "        self.email=email\n",
    "        self.anno_nascita=anno_nascita\n",
    "        \n",
    "    #tale funzione viene implicitamente chiamato dalla funzione print che ne stampa il valore di ritorno\n",
    "    def __str__(self):\n",
    "        return 'Nome: ' + self.nome + ', Cognome: ' + self.cognome + ', Mail: ' + self.email + ', Anno: ' + str(self.anno_nascita)\n",
    "        "
   ]
  },
  {
   "cell_type": "code",
   "execution_count": 4,
   "id": "12f2f2e9",
   "metadata": {},
   "outputs": [
    {
     "data": {
      "text/plain": [
       "('Mario', 'Rossi', 'mario@rossi.it')"
      ]
     },
     "execution_count": 4,
     "metadata": {},
     "output_type": "execute_result"
    }
   ],
   "source": [
    "mario=Persona('Mario','Rossi','mario@rossi.it')\n",
    "mario.nome, mario.cognome, mario.email"
   ]
  },
  {
   "cell_type": "code",
   "execution_count": 5,
   "id": "0056331e",
   "metadata": {},
   "outputs": [],
   "source": [
    "# Come se fosse un dizionario\n",
    "#persona={}\n",
    "#persona['nome']='Valentina'\n",
    "#persona['cognome']='Verdi'\n",
    "#persona"
   ]
  },
  {
   "cell_type": "markdown",
   "id": "86a457d2",
   "metadata": {},
   "source": [
    "Mentre un dato è slegato dal valore semantico, l'informazione lo porta con sè.\n",
    "\n",
    "Si può anche dire che il dato è un atomo di informazione: esso concorre alla creazione di una informazione.\n",
    "\n",
    "Ad esempio l'età è informazione in quanto elaborata a partire dalla data odierna (dato) e da quella di nascita (dato).\n",
    "\n",
    "OSS: nelle basi di dati non ci vogliono informazioni"
   ]
  },
  {
   "cell_type": "markdown",
   "id": "e0ed4ba6",
   "metadata": {},
   "source": [
    "### Print di un oggetto"
   ]
  },
  {
   "cell_type": "code",
   "execution_count": 6,
   "id": "308c54c4",
   "metadata": {},
   "outputs": [
    {
     "data": {
      "text/plain": [
       "'Nome: Mario, Cognome: Rossi, Mail: mario@rossi.it, Anno: 1998'"
      ]
     },
     "execution_count": 6,
     "metadata": {},
     "output_type": "execute_result"
    }
   ],
   "source": [
    "mario.anno_nascita=1998\n",
    "mario.__str__()"
   ]
  },
  {
   "cell_type": "markdown",
   "id": "d2caa4c9",
   "metadata": {},
   "source": [
    "Così come avviene nei database, anche le classi dovrebbero contenere come attributi solo dei dati. La differenza sta nel fatto che le classi possono esporre delle funzionalità per produrre informazioni a partire dai loro stessi dati."
   ]
  },
  {
   "cell_type": "code",
   "execution_count": 7,
   "id": "68a9a80a",
   "metadata": {},
   "outputs": [],
   "source": [
    "import datetime"
   ]
  },
  {
   "cell_type": "code",
   "execution_count": 8,
   "id": "582d4068",
   "metadata": {},
   "outputs": [],
   "source": [
    "class Utente:\n",
    "    def __init__(self, nome, cognome, data_nascita):\n",
    "        self.nome=nome\n",
    "        self.cognome=cognome\n",
    "        self.data_nascita=data_nascita\n",
    "        \n",
    "    def __str__(self):\n",
    "        return self.nome + ' ' + self.cognome + ' ' + str(self.get_anni()) \n",
    "    \n",
    "    def get_anni(self):\n",
    "        t = datetime.date.today()\n",
    "        anni = int((t-self.data_nascita).days/365)\n",
    "        return anni"
   ]
  },
  {
   "cell_type": "code",
   "execution_count": 9,
   "id": "89bfacaa",
   "metadata": {},
   "outputs": [],
   "source": [
    "io = Utente('Nic', 'Banin', datetime.date(1998,2,1))"
   ]
  },
  {
   "cell_type": "code",
   "execution_count": 10,
   "id": "48b5acf8",
   "metadata": {},
   "outputs": [
    {
     "data": {
      "text/plain": [
       "24"
      ]
     },
     "execution_count": 10,
     "metadata": {},
     "output_type": "execute_result"
    }
   ],
   "source": [
    "io.get_anni()"
   ]
  },
  {
   "cell_type": "code",
   "execution_count": 11,
   "id": "b38cc54e",
   "metadata": {},
   "outputs": [
    {
     "name": "stdout",
     "output_type": "stream",
     "text": [
      "Nic Banin 24\n"
     ]
    }
   ],
   "source": [
    "print(io)"
   ]
  },
  {
   "cell_type": "markdown",
   "id": "bbe2773a",
   "metadata": {},
   "source": [
    "#### Esercizio\n",
    "\n",
    "    "
   ]
  },
  {
   "cell_type": "markdown",
   "id": "68c2a87c",
   "metadata": {},
   "source": [
    "1. Creare una funzione che restituisca una data random che prenda in ingresso gli anni\n",
    "    \n",
    "2. Data una lista di 10 nomi e 10 cognomi, creare 10 istanze di Utente inizializzate con date di nascita random in modo tale che gli utenti abbiano un'età compresa fra 15 e 20 anni.\n",
    "    Calcolare poi la media delle età"
   ]
  },
  {
   "cell_type": "code",
   "execution_count": 12,
   "id": "b7f46881",
   "metadata": {},
   "outputs": [],
   "source": [
    "import random\n",
    "import calendar\n",
    "\n",
    "def random_data(anni):\n",
    "    \n",
    "    giorni = anni*365\n",
    "    rnd_giorno = random.randint(1, 365)\n",
    "    rnd_mese = random.randint(1, 12)\n",
    "    \n",
    "    if rnd_mese < datetime.date.today().month:\n",
    "        \n",
    "        anno = datetime.date.today().year - anni\n",
    "        mese = random.randint(1, datetime.date.today().month)\n",
    "        giorno = random.randint(1, datetime.date.today().day-1)\n",
    "            \n",
    "            \n",
    "    elif rnd_mese == datetime.date.today().month:\n",
    "        \n",
    "        if rnd_giorno > datetime.date.today().day:\n",
    "            anno = datetime.date.today().year - anni - 1\n",
    "            mese = random.randint(datetime.date.today().month, 12)            \n",
    "            ultimo_giorno = calendar.monthrange(anno,mese)[1]   \n",
    "            giorno = random.randint(datetime.date.today().day, ultimo_giorno )\n",
    "          \n",
    "        \n",
    "    else:\n",
    "        \n",
    "        anno = datetime.date.today().year - anni - 1\n",
    "        mese = random.randint(rnd_mese, 12)        \n",
    "        ultimo_giorno = calendar.monthrange(anno,mese)[1]               \n",
    "        giorno = random.randint(datetime.date.today().day, ultimo_giorno )\n",
    "       \n",
    "    \n",
    "    return datetime.date(anno, mese, giorno)"
   ]
  },
  {
   "cell_type": "code",
   "execution_count": 13,
   "id": "d7fcab50",
   "metadata": {},
   "outputs": [
    {
     "data": {
      "text/plain": [
       "datetime.date(1982, 6, 16)"
      ]
     },
     "execution_count": 13,
     "metadata": {},
     "output_type": "execute_result"
    }
   ],
   "source": [
    "random_data(40)"
   ]
  },
  {
   "cell_type": "code",
   "execution_count": 14,
   "id": "238759dd",
   "metadata": {},
   "outputs": [],
   "source": [
    "nomi=['Ginevra','Martina','Aldo','Silvia','Giacomo','Enrico','Eugenia','Francesco','Nicola','Mark']\n",
    "cognomi=['Verdi','Rossi','Bianchi','Blui','Gialli','Neri','Azzurri','Arancioni','Marroni','Grigi']\n"
   ]
  },
  {
   "cell_type": "code",
   "execution_count": 15,
   "id": "b9a64564",
   "metadata": {},
   "outputs": [
    {
     "name": "stdout",
     "output_type": "stream",
     "text": [
      "Ginevra Verdi 17\n",
      "Martina Rossi 20\n",
      "Aldo Bianchi 18\n",
      "Silvia Blui 20\n",
      "Giacomo Gialli 19\n",
      "Enrico Neri 19\n",
      "Eugenia Azzurri 17\n",
      "Francesco Arancioni 17\n",
      "Nicola Marroni 19\n",
      "Mark Grigi 16\n"
     ]
    }
   ],
   "source": [
    "utenti=[]\n",
    "\n",
    "for nome, cognome in zip(nomi,cognomi):\n",
    "    anni=random.randint(15,20)\n",
    "    data=random_data(anni)\n",
    "    utenti.append(Utente(nome,cognome,data))\n",
    "\n",
    "for el in utenti:\n",
    "    print(el)"
   ]
  },
  {
   "cell_type": "code",
   "execution_count": 16,
   "id": "5a8e535e",
   "metadata": {},
   "outputs": [
    {
     "name": "stdout",
     "output_type": "stream",
     "text": [
      "Ginevra Verdi 17\n",
      "Martina Rossi 19\n",
      "Aldo Bianchi 20\n",
      "Silvia Blui 18\n",
      "Giacomo Gialli 16\n",
      "Enrico Neri 17\n",
      "Eugenia Azzurri 19\n",
      "Francesco Arancioni 20\n",
      "Nicola Marroni 17\n",
      "Mark Grigi 18\n"
     ]
    }
   ],
   "source": [
    "#con list comprehension\n",
    "\n",
    "utenti2 = [Utente(nome, cognome, random_data(random.randint(15,20))) for nome, cognome in zip(nomi, cognomi)]\n",
    "\n",
    "for u in utenti2 :\n",
    "    print(u)"
   ]
  },
  {
   "cell_type": "code",
   "execution_count": 17,
   "id": "73909e0d",
   "metadata": {},
   "outputs": [
    {
     "data": {
      "text/plain": [
       "32"
      ]
     },
     "execution_count": 17,
     "metadata": {},
     "output_type": "execute_result"
    }
   ],
   "source": [
    "io.get_anni()\n",
    "\n",
    "Utente.anni = property(Utente.get_anni)\n",
    "\n",
    "tu = Utente('Marco', 'Racco', datetime.date(1990, 9, 29))\n",
    "tu.anni #invece di tu.get_anni()"
   ]
  },
  {
   "cell_type": "code",
   "execution_count": 18,
   "id": "87ed5132",
   "metadata": {},
   "outputs": [
    {
     "data": {
      "text/plain": [
       "18.1"
      ]
     },
     "execution_count": 18,
     "metadata": {},
     "output_type": "execute_result"
    }
   ],
   "source": [
    "avg = lambda numeri: sum(numeri)/len(numeri)\n",
    "avg([u.get_anni() for u in utenti2])"
   ]
  },
  {
   "cell_type": "markdown",
   "id": "29cb5102",
   "metadata": {},
   "source": [
    "## L'ereditarietà\n",
    "\n",
    "Molto spesso in un modello computazionale esistono diverse entità relazionate in qualche modo fra loro.\n",
    "\n",
    "Oltre alle relazioni di \"appartenenza\", possono esistere delle relazioni di \"parentela\". Una classe può ereditare proprietà da un'altra classe genitore.\n",
    "\n",
    "Ad esempio: tutti i mezzi di trasporto hanno una velocità massima\n",
    "\n",
    "Le automobili a combustibile hanno una proprietà che è capacità_serbatoio\n",
    "\n",
    "I treni tuttavia non hanno quest'ultima proprietà, pur condividendo quella di velocità_massima"
   ]
  },
  {
   "cell_type": "code",
   "execution_count": 19,
   "id": "01e0bd05",
   "metadata": {},
   "outputs": [],
   "source": [
    "class MezzoDiTrasporto:\n",
    "    \n",
    "    def __init__(self, vel_max):\n",
    "        self.vel_max = vel_max\n",
    "        \n",
    "        \n",
    "class Automobile:\n",
    "    def __init__(self, vel_max, capienza_serbatoio):\n",
    "        self.vel_max = vel_max\n",
    "        self.capienza_serbatoio = capienza_serbatoio\n",
    "        \n",
    "class Treno:\n",
    "    def __init__(self, vel_max, num_vagoni):\n",
    "        self.vel_max = vel_max\n",
    "        self.num_vagoni = num_vagoni        \n"
   ]
  },
  {
   "cell_type": "markdown",
   "id": "7b28fc19",
   "metadata": {},
   "source": [
    "Questo esempio ci fa notare quanto sia scomodo e ridondante ripetere la stessa parte di codice più volte.\n",
    "Al posto di ripetere codice, usiamo degli strumenti python per indicare esplicitamente una relazione di parentela"
   ]
  },
  {
   "cell_type": "code",
   "execution_count": 20,
   "id": "d533c4f0",
   "metadata": {},
   "outputs": [],
   "source": [
    "class MezzoDiTrasporto:\n",
    "    def __init__(self, vel_max):\n",
    "        self.set_vel_max(vel_max) #invece che self.vel_max=vel_max, al fine di non renderlo vulnerabile all'inizializzazione\n",
    "        \n",
    "    def __str__(self):\n",
    "        return 'Sono un mezzo di trasporto'\n",
    "\n",
    "#i due metodi seguenti sono chiamati SETTER e GETTER    \n",
    "\n",
    "    def set_vel_max(self,new_vel):\n",
    "        if new_vel < 0:\n",
    "            self.vel_max = 0\n",
    "        else:\n",
    "            self.vel_max = new_vel\n",
    "        \n",
    "    def get_vel_max(self):\n",
    "        if self.vel_max == 0:\n",
    "            print('Velocità non valida')\n",
    "        return self.vel_max\n",
    "    \n",
    "#in assenza di un setter, le proprietà sono da considerarsi read-only    \n",
    "    \n",
    "    vel = property(get_vel_max, set_vel_max)\n",
    "        \n",
    "class Automobile(MezzoDiTrasporto):\n",
    "    def __init__(self, vel_max, capienza_serbatoio):\n",
    "        super().__init__(vel_max)\n",
    "        self.capienza_serbatoio = capienza_serbatoio\n",
    "        \n",
    "    def __str__(self):\n",
    "        return super().__str__() + \" Sono anche un'automobile\""
   ]
  },
  {
   "cell_type": "code",
   "execution_count": 21,
   "id": "6737fb21",
   "metadata": {},
   "outputs": [
    {
     "name": "stdout",
     "output_type": "stream",
     "text": [
      "Sono un mezzo di trasporto Sono anche un'automobile\n"
     ]
    }
   ],
   "source": [
    "print(Automobile(20,50))"
   ]
  },
  {
   "cell_type": "markdown",
   "id": "cfe6f9c2",
   "metadata": {},
   "source": [
    "Attenzione: le relazione di tipo parentale sono però unidirezionali.\n",
    "\n",
    "Questo significa che i figli sanno chi sono i genitori, ma il viceversa non è vero: i figli possono accedere a tutte le proprietà dei genitori, ma i genitori non possono vedere quelle dei figli"
   ]
  },
  {
   "cell_type": "code",
   "execution_count": 22,
   "id": "9b60e1f5",
   "metadata": {},
   "outputs": [
    {
     "data": {
      "text/plain": [
       "20"
      ]
     },
     "execution_count": 22,
     "metadata": {},
     "output_type": "execute_result"
    }
   ],
   "source": [
    "mdt = MezzoDiTrasporto(20)\n",
    "mdt.vel"
   ]
  },
  {
   "cell_type": "code",
   "execution_count": 23,
   "id": "f4eb148d",
   "metadata": {},
   "outputs": [
    {
     "name": "stdout",
     "output_type": "stream",
     "text": [
      "Velocità non valida\n"
     ]
    },
    {
     "data": {
      "text/plain": [
       "0"
      ]
     },
     "execution_count": 23,
     "metadata": {},
     "output_type": "execute_result"
    }
   ],
   "source": [
    "#con property è anche possibile indicare una funzione di setter per modificare il valore\n",
    "mdt.vel=-2\n",
    "mdt.vel"
   ]
  },
  {
   "cell_type": "markdown",
   "id": "d668d6a6",
   "metadata": {},
   "source": [
    "In molti casi, il set di un attributo dovrebbe essere possibile solo se il nuovo valore soddisfa determinati requisiti (ad esempio una velocità massima non può essere negativa).\n",
    "\n",
    "I setter sono delle funzioni e ci permettono quindi di eseguire blocchi di più istruzioni"
   ]
  },
  {
   "cell_type": "code",
   "execution_count": 24,
   "id": "6b047c19",
   "metadata": {},
   "outputs": [
    {
     "name": "stdout",
     "output_type": "stream",
     "text": [
      "Velocità non valida\n"
     ]
    },
    {
     "data": {
      "text/plain": [
       "0"
      ]
     },
     "execution_count": 24,
     "metadata": {},
     "output_type": "execute_result"
    }
   ],
   "source": [
    "mdt2 = MezzoDiTrasporto(-2)\n",
    "mdt2.vel"
   ]
  },
  {
   "cell_type": "markdown",
   "id": "78c3b957",
   "metadata": {},
   "source": [
    "## Metodi di comparazione delle classi"
   ]
  },
  {
   "cell_type": "code",
   "execution_count": 25,
   "id": "7f09a983",
   "metadata": {},
   "outputs": [
    {
     "data": {
      "text/plain": [
       "False"
      ]
     },
     "execution_count": 25,
     "metadata": {},
     "output_type": "execute_result"
    }
   ],
   "source": [
    "u_1 = Utente('Nic', 'Banin', datetime.date(1998,2,1))\n",
    "u_2 = Utente('Nic', 'Banin', datetime.date(1998,2,1))\n",
    "\n",
    "u_1 == u_2"
   ]
  },
  {
   "cell_type": "markdown",
   "id": "a5aaba15",
   "metadata": {},
   "source": [
    "In quanto, seppur \"esteticamente\" uguali, non occupano lo stesso spazio nella memoria"
   ]
  },
  {
   "cell_type": "code",
   "execution_count": 59,
   "id": "ed7cecc7",
   "metadata": {},
   "outputs": [],
   "source": [
    "class Admin(Utente):\n",
    "    def __eq__(self, altro):\n",
    "        return self.nome == altro.nome and self.cognome == altro.cognome and self.data_nascita == altro.data_nascita \n",
    "    \n",
    "    def __gt__(self, altro):\n",
    "        return self.cognome > altro.cognome if self.cognome != altro.cognome else self.nome > altro.nome if self.nome != altro.nome else self.data_nascita > altro.data_nascita"
   ]
  },
  {
   "cell_type": "code",
   "execution_count": 60,
   "id": "200ef301",
   "metadata": {},
   "outputs": [
    {
     "data": {
      "text/plain": [
       "True"
      ]
     },
     "execution_count": 60,
     "metadata": {},
     "output_type": "execute_result"
    }
   ],
   "source": [
    "a1 = Admin('Nic', 'Banin', datetime.date(1998,2,1))\n",
    "a2 = Admin('Nic', 'Banin', datetime.date(1998,2,1))\n",
    "a1 == a2"
   ]
  },
  {
   "cell_type": "code",
   "execution_count": 61,
   "id": "9b33f852",
   "metadata": {},
   "outputs": [
    {
     "name": "stdout",
     "output_type": "stream",
     "text": [
      "Mario Rossi 57\n",
      "Andrea Verdi 41\n",
      "Mario Rossi 52\n",
      "Lorenzo Bianchi 46\n"
     ]
    }
   ],
   "source": [
    "admins = [\n",
    "    Admin(n, c, datetime.date(random.randrange(1960, 1990),1,1)) \n",
    "    for n,c \n",
    "    in [('Mario', 'Rossi'), ('Andrea', 'Verdi'), ('Mario', 'Rossi'), ('Lorenzo', 'Bianchi')]\n",
    "]\n",
    "\n",
    "for a in admins:\n",
    "    print(a)"
   ]
  },
  {
   "cell_type": "code",
   "execution_count": 33,
   "id": "2fdc3a7e",
   "metadata": {},
   "outputs": [
    {
     "ename": "TypeError",
     "evalue": "'<' not supported between instances of 'Admin' and 'Admin'",
     "output_type": "error",
     "traceback": [
      "\u001b[1;31m---------------------------------------------------------------------------\u001b[0m",
      "\u001b[1;31mTypeError\u001b[0m                                 Traceback (most recent call last)",
      "Cell \u001b[1;32mIn [33], line 1\u001b[0m\n\u001b[1;32m----> 1\u001b[0m \u001b[43madmins\u001b[49m\u001b[38;5;241;43m.\u001b[39;49m\u001b[43msort\u001b[49m\u001b[43m(\u001b[49m\u001b[43m)\u001b[49m\n",
      "\u001b[1;31mTypeError\u001b[0m: '<' not supported between instances of 'Admin' and 'Admin'"
     ]
    }
   ],
   "source": [
    "admins.sort()\n",
    "#non abbiamo infatti definito un ordinamento all'interno della classe"
   ]
  },
  {
   "cell_type": "code",
   "execution_count": 62,
   "id": "768b38d8",
   "metadata": {},
   "outputs": [],
   "source": [
    "admins.sort()"
   ]
  },
  {
   "cell_type": "code",
   "execution_count": 63,
   "id": "c3e1f72d",
   "metadata": {},
   "outputs": [
    {
     "name": "stdout",
     "output_type": "stream",
     "text": [
      "Lorenzo Bianchi 46\n",
      "Mario Rossi 57\n",
      "Mario Rossi 52\n",
      "Andrea Verdi 41\n"
     ]
    }
   ],
   "source": [
    "for a in admins:\n",
    "    print(a)"
   ]
  },
  {
   "cell_type": "code",
   "execution_count": 53,
   "id": "fc57c06f",
   "metadata": {},
   "outputs": [
    {
     "data": {
      "text/plain": [
       "True"
      ]
     },
     "execution_count": 53,
     "metadata": {},
     "output_type": "execute_result"
    }
   ],
   "source": [
    "(datetime.date(1960,1,1)) < (datetime.date(1962,1,1))"
   ]
  },
  {
   "cell_type": "markdown",
   "id": "b2f318d1",
   "metadata": {},
   "source": [
    "## Esercizio\n",
    "\n",
    "Scrivere una funzione generalizzata per il calcolo del Massimo Comun Divisore"
   ]
  },
  {
   "cell_type": "code",
   "execution_count": 72,
   "id": "a59e2f1c",
   "metadata": {},
   "outputs": [],
   "source": [
    "def is_primo(n):  \n",
    "    return [x for x in range(2,n) if n%x==0]==[]\n",
    "\n",
    "\n",
    "\n",
    "def genera_primi(n):  \n",
    "    return [x for x in range(2,n) if is_primo(x)]\n",
    "\n",
    "\n",
    "\n",
    "def fattori(n):\n",
    "    fattori=genera_primi(n)  \n",
    "    if is_primo(n):\n",
    "        return [[n,1]]\n",
    "    res=[]  \n",
    "    resto=n\n",
    "    for f in fattori:  \n",
    "        temp=[f,0]\n",
    "        while resto%f==0:\n",
    "            resto=resto/f\n",
    "            temp=[f,temp[1]+1]\n",
    "        if temp[1]!=0:\n",
    "            res.append(temp)   \n",
    "    return res  "
   ]
  },
  {
   "cell_type": "code",
   "execution_count": 73,
   "id": "bdda9a60",
   "metadata": {},
   "outputs": [
    {
     "name": "stdout",
     "output_type": "stream",
     "text": [
      "MCD è 1 e mcm è 1547\n"
     ]
    }
   ],
   "source": [
    "def mcd_mcm(*numeri):  \n",
    "    \n",
    "    divisori=[]  \n",
    "    divisori_comune=[]\n",
    "    \n",
    "    for num in numeri:\n",
    "        divisori.append([n for n in range(1,num+1) if num%n==0])  \n",
    "        \n",
    "    divisori_comuni=set(divisori[0])\n",
    "    for i in range(len(divisori)-1):\n",
    "        divisori_comuni=divisori_comuni&set(divisori[i+1])\n",
    "    mcd=max(divisori_comuni)  \n",
    "    \n",
    "    fattori_comuni={}\n",
    "    for num in numeri:  \n",
    "        #print(fattori(num))\n",
    "        fs={f[0]:f[1] for f in fattori(num)}\n",
    "        for f,e in fs.items():\n",
    "            if f not in fattori_comuni.keys() or e> fattori_comuni[f] :  \n",
    "                fattori_comuni[f]=e\n",
    "    mcm=1\n",
    "    for f,e in fattori_comuni.items():  \n",
    "        mcm*=(f**e)\n",
    "        \n",
    "    return mcd,mcm\n",
    "\n",
    "\n",
    "\n",
    "mcd,mcm=mcd_mcm(13,17,91)\n",
    "print(f'MCD è {mcd} e mcm è {mcm}')"
   ]
  },
  {
   "cell_type": "markdown",
   "id": "86de0151",
   "metadata": {},
   "source": [
    "## Esercizio sulle classi\n",
    "\n",
    "Creare lo scheletro (il model) per le seguenti entità nel contesto di un social network:\n",
    "- utente\n",
    "- amministratore\n",
    "- post\n",
    "- edit di un post\n",
    "- like\n",
    "- commento\n",
    "- edit di un commento\n",
    "\n",
    "descrivere le classi, stilare i possibili attributi, identificare le relazioni tra le classi.\n",
    "Codificare poi il model in linguaggio python"
   ]
  },
  {
   "cell_type": "code",
   "execution_count": 74,
   "id": "b04c8d66",
   "metadata": {},
   "outputs": [],
   "source": [
    "class Utente:\n",
    "    \n",
    "    def __init__(self, nome, cognome, iscrizione):\n",
    "        self.nome=nome\n",
    "        self.cognome=cognome\n",
    "        self.iscrizione=iscrizione\n",
    "        self.friends=[] #lista degli amici, inizialmente vuota\n",
    "        self.id=genera_id()\n",
    "        \n",
    "    def genera_id():\n",
    "        pass\n",
    "    \n",
    "    def add_friend(friend_id):\n",
    "        self.friends.append(friend_id)"
   ]
  },
  {
   "cell_type": "code",
   "execution_count": null,
   "id": "9cb581e7",
   "metadata": {},
   "outputs": [],
   "source": []
  }
 ],
 "metadata": {
  "kernelspec": {
   "display_name": "Python 3 (ipykernel)",
   "language": "python",
   "name": "python3"
  },
  "language_info": {
   "codemirror_mode": {
    "name": "ipython",
    "version": 3
   },
   "file_extension": ".py",
   "mimetype": "text/x-python",
   "name": "python",
   "nbconvert_exporter": "python",
   "pygments_lexer": "ipython3",
   "version": "3.10.7"
  }
 },
 "nbformat": 4,
 "nbformat_minor": 5
}
