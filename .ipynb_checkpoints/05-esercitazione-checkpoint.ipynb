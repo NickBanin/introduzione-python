{
 "cells": [
  {
   "cell_type": "markdown",
   "id": "9a6a75ce",
   "metadata": {},
   "source": [
    "# I numeri"
   ]
  },
  {
   "cell_type": "markdown",
   "id": "7fb50292",
   "metadata": {},
   "source": [
    "A differenza degli altri linguaggi di programmazione, Python gestisce la memoria in modo \"dinamico\": non ci sono limiti di memoria per la memorizzazione di numeri (se non quello di macchina)"
   ]
  },
  {
   "cell_type": "code",
   "execution_count": 1,
   "id": "a4033fab",
   "metadata": {},
   "outputs": [
    {
     "data": {
      "text/plain": [
       "1267650600228229401496703205376"
      ]
     },
     "execution_count": 1,
     "metadata": {},
     "output_type": "execute_result"
    }
   ],
   "source": [
    "2**100"
   ]
  },
  {
   "cell_type": "code",
   "execution_count": 2,
   "id": "0ada0528",
   "metadata": {},
   "outputs": [
    {
     "data": {
      "text/plain": [
       "float"
      ]
     },
     "execution_count": 2,
     "metadata": {},
     "output_type": "execute_result"
    }
   ],
   "source": [
    "type(1.5)\n",
    "#non è una classe bensì un dato primitivo: per tale motivo esistono limiti di memoria\n"
   ]
  },
  {
   "cell_type": "markdown",
   "id": "d5b3b675",
   "metadata": {},
   "source": [
    "Aggiungendo un 0x indichiamo la codifica esadecimale\n",
    "\n",
    "Usando invece 0b troviamo quella binaria\n",
    "\n",
    "Mentre 0o codifica quella ottale"
   ]
  },
  {
   "cell_type": "markdown",
   "id": "1aa13180",
   "metadata": {},
   "source": [
    "Python supporta inoltre nativamente i numeri complessi"
   ]
  },
  {
   "cell_type": "code",
   "execution_count": 3,
   "id": "61942777",
   "metadata": {},
   "outputs": [
    {
     "name": "stdout",
     "output_type": "stream",
     "text": [
      "(2+1j) <class 'complex'>\n",
      "2.0 1.0\n"
     ]
    }
   ],
   "source": [
    "c = 2 + 1j #j indica la parte complessa dei numeri immaginari\n",
    "print(c, type(c))\n",
    "print(c.real, c.imag)"
   ]
  },
  {
   "cell_type": "code",
   "execution_count": 4,
   "id": "fa28a41a",
   "metadata": {},
   "outputs": [
    {
     "data": {
      "text/plain": [
       "(10+28j)"
      ]
     },
     "execution_count": 4,
     "metadata": {},
     "output_type": "execute_result"
    }
   ],
   "source": [
    "(2 + 3j) * (8 + 2j)"
   ]
  },
  {
   "cell_type": "code",
   "execution_count": 5,
   "id": "bb0bd5c3",
   "metadata": {},
   "outputs": [
    {
     "name": "stdout",
     "output_type": "stream",
     "text": [
      "<class 'complex'> (6.123233995736766e-17+1j)\n"
     ]
    }
   ],
   "source": [
    "print(type((-1)**.5),(-1)**.5)"
   ]
  },
  {
   "cell_type": "markdown",
   "id": "f1913378",
   "metadata": {},
   "source": [
    "## True, False, None\n",
    "True e False sono i risultati delle operazioni booleane.\n",
    "- True: la condizione è soddisfatta\n",
    "- False: la condizione non è soddisfatta"
   ]
  },
  {
   "cell_type": "code",
   "execution_count": 6,
   "id": "9e066653",
   "metadata": {},
   "outputs": [
    {
     "data": {
      "text/plain": [
       "[24, 27, 30, 33, 36, 39, 42, 45, 48, 51]"
      ]
     },
     "execution_count": 6,
     "metadata": {},
     "output_type": "execute_result"
    }
   ],
   "source": [
    "[n for n in range(23,52) if n%3==0]"
   ]
  },
  {
   "cell_type": "code",
   "execution_count": 7,
   "id": "23685227",
   "metadata": {},
   "outputs": [
    {
     "data": {
      "text/plain": [
       "[24, -27, 30, -33, 36, -39, 42, -45, 48, -51]"
      ]
     },
     "execution_count": 7,
     "metadata": {},
     "output_type": "execute_result"
    }
   ],
   "source": [
    "[(n if n%2==0 else -n) for n in range(23,52) if n%3==0]"
   ]
  },
  {
   "cell_type": "markdown",
   "id": "199f762d",
   "metadata": {},
   "source": [
    "In una variabile è possibile salvare i valori booleani direttamente\n"
   ]
  },
  {
   "cell_type": "code",
   "execution_count": 8,
   "id": "7413dbd8",
   "metadata": {},
   "outputs": [],
   "source": [
    "a = True   #è una parola chiave"
   ]
  },
  {
   "cell_type": "markdown",
   "id": "0083cb7d",
   "metadata": {},
   "source": [
    "In alcuni casi la computazione porta ad avere dei valori mancanti, in taluni di essi si può usare il valore *None* per indicare la mancanza di un valore"
   ]
  },
  {
   "cell_type": "code",
   "execution_count": 9,
   "id": "2ababfcb",
   "metadata": {},
   "outputs": [],
   "source": [
    "a=10\n",
    "b=0\n",
    "try:\n",
    "    c=a/b\n",
    "except:\n",
    "    c=None"
   ]
  },
  {
   "cell_type": "code",
   "execution_count": 10,
   "id": "15ae320e",
   "metadata": {},
   "outputs": [
    {
     "name": "stdout",
     "output_type": "stream",
     "text": [
      "None\n"
     ]
    }
   ],
   "source": [
    "print(c)"
   ]
  },
  {
   "cell_type": "markdown",
   "id": "991932df",
   "metadata": {},
   "source": [
    "# Esercizi\n"
   ]
  },
  {
   "cell_type": "markdown",
   "id": "d6843d9d",
   "metadata": {},
   "source": [
    "1.\n",
    "Data una stringa “s” contare il numero di doppie presenti:\n",
    "ES.\n",
    "s = “aeiou” -> 0\n",
    "s = “tutto” -> 1\n",
    "s = “ttatt” -> 2\n"
   ]
  },
  {
   "cell_type": "code",
   "execution_count": 11,
   "id": "782e4149",
   "metadata": {},
   "outputs": [],
   "source": [
    "def contadoppie(s):\n",
    "    i=0\n",
    "    for j in range(1,len(s)):\n",
    "        if s[j-1]==s[j]:\n",
    "            i+=1\n",
    "    return i"
   ]
  },
  {
   "cell_type": "code",
   "execution_count": 12,
   "id": "2876dee8",
   "metadata": {},
   "outputs": [
    {
     "data": {
      "text/plain": [
       "1"
      ]
     },
     "execution_count": 12,
     "metadata": {},
     "output_type": "execute_result"
    }
   ],
   "source": [
    "contadoppie('banna')"
   ]
  },
  {
   "cell_type": "markdown",
   "id": "9358fd9a",
   "metadata": {},
   "source": [
    "2.\n",
    "Creare un dizionario con le seguenti entries:\n",
    "\n",
    "“cane”: “domestico” \n",
    "“gatto”: “domestico” \n",
    "“leopardo”: “selvatico” \n",
    "“zebra”:selvatico” \n",
    "\n",
    "Creare una struttura che rovescia il dizionario e che risulti in un nuovo dizionario con i seguenti elementi:\n",
    "\n",
    "“domestico”: [“cane”, “gatto”]\n",
    "“selvatico”: [“leopardo”, “zebra”]\n"
   ]
  },
  {
   "cell_type": "code",
   "execution_count": 13,
   "id": "ce056b6e",
   "metadata": {},
   "outputs": [],
   "source": [
    "dict1 = {'cane': 'domestico', 'gatto': 'domestico', 'leopardo': 'selvatico', 'zebra':'selvatico'}"
   ]
  },
  {
   "cell_type": "code",
   "execution_count": 14,
   "id": "c028f371",
   "metadata": {},
   "outputs": [],
   "source": [
    "def animali(d1):\n",
    "    d2={}\n",
    "    for key, value in d1.items():\n",
    "        if value in d2.keys():\n",
    "            d2[value].append(key)\n",
    "        else:\n",
    "            d2[value]=[key]\n",
    "    return d2"
   ]
  },
  {
   "cell_type": "code",
   "execution_count": 15,
   "id": "ab74d200",
   "metadata": {},
   "outputs": [
    {
     "name": "stdout",
     "output_type": "stream",
     "text": [
      "(0, 'cane')\n",
      "(1, 'gatto')\n",
      "(2, 'leopardo')\n",
      "(3, 'zebra')\n"
     ]
    }
   ],
   "source": [
    "for el in enumerate(dict1):\n",
    "    print(el)"
   ]
  },
  {
   "cell_type": "code",
   "execution_count": 16,
   "id": "f07b7020",
   "metadata": {},
   "outputs": [
    {
     "data": {
      "text/plain": [
       "{'domestico': ['cane', 'gatto'], 'selvatico': ['leopardo', 'zebra']}"
      ]
     },
     "execution_count": 16,
     "metadata": {},
     "output_type": "execute_result"
    }
   ],
   "source": [
    "animali(dict1)"
   ]
  },
  {
   "cell_type": "markdown",
   "id": "62304603",
   "metadata": {},
   "source": [
    "3.\n",
    "Dato l’elenco città sotto forma di dizionario uguale a quello che abbiamo visto nell’esercizio:\n",
    "elenco_citta = dict()\n",
    "\n",
    "creare una lista contenente solo i nomi dei paesi corrispondenti alle città con la lettera “R” sia minuscola che maiuscola in modo tale che le lettere dei paesi siano invertite e che la prima lettera del paese sia maiuscola (mentre tutte le altre minuscole).\n",
    "\n",
    "R è in Roma ed in Barcelona\n",
    "lista dei paesi [Italia, Spagna]\n",
    "invertiamo le stringhe\n",
    "[ailatI, angapS]\n",
    "mettiamo a posto i caratteri maiuscoli e minuscoli come richiesto\n",
    "[Ailati, Angaps]\n",
    "\n"
   ]
  },
  {
   "cell_type": "code",
   "execution_count": 17,
   "id": "4b085bcf",
   "metadata": {},
   "outputs": [
    {
     "name": "stdout",
     "output_type": "stream",
     "text": [
      "{'Roma': 'Italia', 'Napoli': 'Italia', 'Barcelona': 'Spagna'}\n"
     ]
    }
   ],
   "source": [
    "elenco_citta = dict()\n",
    "elenco_citta['Roma']='Italia'\n",
    "elenco_citta['Napoli']='Italia'\n",
    "elenco_citta['Barcelona']='Spagna'\n",
    "\n",
    "print(elenco_citta)"
   ]
  },
  {
   "cell_type": "code",
   "execution_count": 18,
   "id": "54e26fa5",
   "metadata": {},
   "outputs": [],
   "source": [
    "dict1 = {'cane': 'domestico', 'gatto': 'domestico', 'leopardo': 'selvatico', 'zebra':'selvatico'}"
   ]
  },
  {
   "cell_type": "code",
   "execution_count": 19,
   "id": "cb57af65",
   "metadata": {},
   "outputs": [],
   "source": [
    "def inverti(d1):\n",
    "    lista=[]\n",
    "    for chiave, valore in d1.items():\n",
    "        if 'r' in chiave or 'R' in chiave:\n",
    "            lista.append((valore[::-1]).capitalize())\n",
    "    return lista"
   ]
  },
  {
   "cell_type": "code",
   "execution_count": 20,
   "id": "a9841384",
   "metadata": {},
   "outputs": [
    {
     "name": "stdout",
     "output_type": "stream",
     "text": [
      "['Ailati', 'Angaps']\n"
     ]
    }
   ],
   "source": [
    "print(inverti(elenco_citta))"
   ]
  },
  {
   "cell_type": "code",
   "execution_count": null,
   "id": "50bccce7",
   "metadata": {},
   "outputs": [],
   "source": []
  }
 ],
 "metadata": {
  "kernelspec": {
   "display_name": "Python 3 (ipykernel)",
   "language": "python",
   "name": "python3"
  },
  "language_info": {
   "codemirror_mode": {
    "name": "ipython",
    "version": 3
   },
   "file_extension": ".py",
   "mimetype": "text/x-python",
   "name": "python",
   "nbconvert_exporter": "python",
   "pygments_lexer": "ipython3",
   "version": "3.10.7"
  }
 },
 "nbformat": 4,
 "nbformat_minor": 5
}
